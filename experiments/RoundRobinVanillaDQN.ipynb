{
  "nbformat": 4,
  "nbformat_minor": 0,
  "metadata": {
    "colab": {
      "provenance": [],
      "authorship_tag": "ABX9TyNCQWqbgMOeghf3+zQGT94B",
      "include_colab_link": true
    },
    "kernelspec": {
      "name": "python3",
      "display_name": "Python 3"
    },
    "language_info": {
      "name": "python"
    }
  },
  "cells": [
    {
      "cell_type": "markdown",
      "metadata": {
        "id": "view-in-github",
        "colab_type": "text"
      },
      "source": [
        "<a href=\"https://colab.research.google.com/github/faizankshaikh/SocialNeuro/blob/main/experiments/RoundRobinVanillaDQN.ipynb\" target=\"_parent\"><img src=\"https://colab.research.google.com/assets/colab-badge.svg\" alt=\"Open In Colab\"/></a>"
      ]
    },
    {
      "cell_type": "code",
      "source": [
        "#@title Required installation\n",
        "!pip install -q black gymnasium pettingzoo==1.22.3 tianshou\n",
        "!git clone https://github.com/faizankshaikh/SocialNeuro"
      ],
      "metadata": {
        "id": "_zu_ZRc4Bnfm",
        "outputId": "a3922bf6-5994-44f7-9141-3032084b664c",
        "colab": {
          "base_uri": "https://localhost:8080/"
        }
      },
      "execution_count": 1,
      "outputs": [
        {
          "output_type": "stream",
          "name": "stdout",
          "text": [
            "\u001b[2K     \u001b[90m━━━━━━━━━━━━━━━━━━━━━━━━━━━━━━━━━━━━━━━━\u001b[0m \u001b[32m1.6/1.6 MB\u001b[0m \u001b[31m10.0 MB/s\u001b[0m eta \u001b[36m0:00:00\u001b[0m\n",
            "\u001b[2K     \u001b[90m━━━━━━━━━━━━━━━━━━━━━━━━━━━━━━━━━━━━━━\u001b[0m \u001b[32m953.9/953.9 kB\u001b[0m \u001b[31m18.1 MB/s\u001b[0m eta \u001b[36m0:00:00\u001b[0m\n",
            "\u001b[2K     \u001b[90m━━━━━━━━━━━━━━━━━━━━━━━━━━━━━━━━━━━━━━\u001b[0m \u001b[32m816.1/816.1 kB\u001b[0m \u001b[31m20.9 MB/s\u001b[0m eta \u001b[36m0:00:00\u001b[0m\n",
            "\u001b[2K     \u001b[90m━━━━━━━━━━━━━━━━━━━━━━━━━━━━━━━━━━━━━━\u001b[0m \u001b[32m163.1/163.1 kB\u001b[0m \u001b[31m16.7 MB/s\u001b[0m eta \u001b[36m0:00:00\u001b[0m\n",
            "\u001b[?25hCloning into 'SocialNeuro'...\n",
            "remote: Enumerating objects: 94, done.\u001b[K\n",
            "remote: Counting objects: 100% (94/94), done.\u001b[K\n",
            "remote: Compressing objects: 100% (89/89), done.\u001b[K\n",
            "remote: Total 94 (delta 34), reused 13 (delta 4), pack-reused 0\u001b[K\n",
            "Receiving objects: 100% (94/94), 32.35 KiB | 517.00 KiB/s, done.\n",
            "Resolving deltas: 100% (34/34), done.\n"
          ]
        }
      ]
    },
    {
      "cell_type": "code",
      "source": [
        "#@title Change working path\n",
        "%cd SocialNeuro"
      ],
      "metadata": {
        "colab": {
          "base_uri": "https://localhost:8080/"
        },
        "id": "AGE2OSmgLlKS",
        "outputId": "4eef8f11-a38e-42c1-869a-dfdc7886b874"
      },
      "execution_count": 1,
      "outputs": [
        {
          "output_type": "stream",
          "name": "stdout",
          "text": [
            "/content/SocialNeuro\n"
          ]
        }
      ]
    },
    {
      "cell_type": "code",
      "source": [
        "#@title Import libraries and modules\n",
        "%load_ext tensorboard\n",
        "\n",
        "import os\n",
        "import torch\n",
        "import numpy as np\n",
        "import pandas as pd\n",
        "import matplotlib.pyplot as plt\n",
        "import matplotlib.patches as mpatches\n",
        "from sklearn.preprocessing import MinMaxScaler\n",
        "\n",
        "from SocialNeuro.envs.social_v0 import SocialNeuro\n",
        "\n",
        "from torch.optim import Adam\n",
        "from tianshou.data import Batch\n",
        "from tianshou.utils.net.common import Net\n",
        "from tianshou.utils import TensorboardLogger\n",
        "from tianshou.trainer import offpolicy_trainer\n",
        "from tianshou.data import Collector, VectorReplayBuffer\n",
        "from tianshou.env import DummyVectorEnv, PettingZooEnv\n",
        "from tianshou.policy import BasePolicy, DQNPolicy, MultiAgentPolicyManager\n",
        "\n",
        "from pettingzoo.utils import parallel_to_aec\n",
        "from torch.utils.tensorboard import SummaryWriter"
      ],
      "metadata": {
        "id": "-XM9H4j9lgS0"
      },
      "execution_count": 2,
      "outputs": []
    },
    {
      "cell_type": "code",
      "source": [
        "#@title Setup environment\n",
        "env_verbose = SocialNeuro(render_mode=\"human\", cfg_name=\"comp_v0\", reward_struct=\"egoistic\")\n",
        "env = SocialNeuro(cfg_name=\"comp_v0\", reward_struct=\"egoistic\")"
      ],
      "metadata": {
        "id": "sP67XLSjTgvB",
        "outputId": "ab757a4a-5f60-4209-bb10-60e9db3f2324",
        "colab": {
          "base_uri": "https://localhost:8080/"
        }
      },
      "execution_count": 3,
      "outputs": [
        {
          "output_type": "stream",
          "name": "stderr",
          "text": [
            "/usr/local/lib/python3.10/dist-packages/ipykernel/ipkernel.py:283: DeprecationWarning: `should_run_async` will not call `transform_cell` automatically in the future. Please pass the result to `transformed_cell` argument and any exception that happen during thetransform in `preprocessing_exc_tuple` in IPython 7.17 and above.\n",
            "  and should_run_async(code)\n"
          ]
        }
      ]
    },
    {
      "cell_type": "code",
      "source": [
        "#@title Example of gameplay\n",
        "episodes = 2\n",
        "\n",
        "for episode in range(episodes):\n",
        "    print(f\"Episode #{episode+1}\")\n",
        "    print(\"=\" * 10)\n",
        "    obs = env_verbose.reset()\n",
        "    print()\n",
        "\n",
        "    while env_verbose.agents:\n",
        "        acts = {\n",
        "            \"player1\": np.random.choice([0, 1]),\n",
        "            \"player2\": np.random.choice([0, 1])\n",
        "        }\n",
        "        print(f\"--Action taken by player 1: {env_verbose.action_dict[acts['player1']]}\")\n",
        "        print(f\"--Action taken by player 2: {env_verbose.action_dict[acts['player2']]}\")\n",
        "        print()\n",
        "\n",
        "        obs, rews, terms, truncs, infos = env_verbose.step(acts)\n",
        "        print()"
      ],
      "metadata": {
        "colab": {
          "base_uri": "https://localhost:8080/"
        },
        "id": "bUA3MhBnTmmh",
        "outputId": "22525a9a-343f-4a5c-e772-f152267a3be1"
      },
      "execution_count": 4,
      "outputs": [
        {
          "output_type": "stream",
          "name": "stderr",
          "text": [
            "/usr/local/lib/python3.10/dist-packages/ipykernel/ipkernel.py:283: DeprecationWarning: `should_run_async` will not call `transform_cell` automatically in the future. Please pass the result to `transformed_cell` argument and any exception that happen during thetransform in `preprocessing_exc_tuple` in IPython 7.17 and above.\n",
            "  and should_run_async(code)\n"
          ]
        },
        {
          "output_type": "stream",
          "name": "stdout",
          "text": [
            "Episode #1\n",
            "==========\n",
            "--Days left: 2.0\n",
            "--Current life of agent 1: 2.0\n",
            "--Current life of agent 2: 3.0\n",
            "--Individual Probability of payoff: 0.4\n",
            "--Joint Probability of payoff: 0.64\n",
            "--Difference in Probability of payoff from the other weather: 0.2\n",
            "--Forest Index: 4.0\n",
            "--Weather Index: 0.0\n",
            "\n",
            "--Action taken by player 1: wait\n",
            "--Action taken by player 2: wait\n",
            "\n",
            "--Days left: 1.0\n",
            "--Current life of agent 1: 1.0\n",
            "--Current life of agent 2: 2.0\n",
            "--Previous action of agent 1: wait\n",
            "--Previous action of agent 2: wait\n",
            "--Individual Probability of payoff: 0.2\n",
            "--Joint Probability of payoff: 0.36\n",
            "--Difference in Probability of payoff from the other weather: -0.2\n",
            "--Forest Index: 4.0\n",
            "--Weather Index: 1.0\n",
            "\n",
            "--Action taken by player 1: play\n",
            "--Action taken by player 2: play\n",
            "\n",
            "--Days left: 0.0\n",
            "--Current life of agent 1: 0.0\n",
            "--Current life of agent 2: 1.0\n",
            "--Previous action of agent 1: play\n",
            "--Previous action of agent 2: play\n",
            "\n",
            "Episode #2\n",
            "==========\n",
            "--Days left: 1.0\n",
            "--Current life of agent 1: 1.0\n",
            "--Current life of agent 2: 1.0\n",
            "--Individual Probability of payoff: 0.4\n",
            "--Joint Probability of payoff: 0.64\n",
            "--Difference in Probability of payoff from the other weather: 0.1\n",
            "--Forest Index: 3.0\n",
            "--Weather Index: 1.0\n",
            "\n",
            "--Action taken by player 1: play\n",
            "--Action taken by player 2: wait\n",
            "\n",
            "--Days left: 0.0\n",
            "--Current life of agent 1: 1.0\n",
            "--Current life of agent 2: 2.0\n",
            "--Previous action of agent 1: play\n",
            "--Previous action of agent 2: wait\n",
            "\n"
          ]
        }
      ]
    },
    {
      "cell_type": "code",
      "source": [
        "#@title Case - both always cooperate\n",
        "episodes = 1000\n",
        "\n",
        "episode_rews = []\n",
        "\n",
        "for _ in range(episodes):\n",
        "\n",
        "    obs = env.reset()\n",
        "    while env.agents:\n",
        "        acts = {\n",
        "            \"player1\": 1,\n",
        "            \"player2\": 1\n",
        "        }\n",
        "\n",
        "        obs, rews, terms, truncs, infos = env.step(acts)\n",
        "        # print(obs, rews)\n",
        "\n",
        "    episode_rews.append([rews['player1'], rews['player2']])\n",
        "\n",
        "arr = np.array(episode_rews)\n",
        "\n",
        "interval_size = 100\n",
        "num_intervals = episodes // interval_size\n",
        "\n",
        "means = []\n",
        "std_devs = []\n",
        "\n",
        "for i in range(0, episodes, interval_size):\n",
        "    interval_data = arr[i:i+interval_size]\n",
        "    mean = np.mean(interval_data, axis=0)\n",
        "    means.append(mean)\n",
        "\n",
        "for i in range(num_intervals - 1):\n",
        "    mean_diff = means[i+1] - means[i]\n",
        "    std_devs.append(mean_diff)\n",
        "\n",
        "avg = (np.mean(arr, axis=0)) * -100\n",
        "std_dev = np.std(std_devs, axis=0) * 100\n",
        "\n",
        "print(f\"death rate (in %) of player1: {avg[0]:.1f} +- {std_dev[0]:.3f}\")\n",
        "print(f\"death rate (in %) of player2: {avg[1]:.1f} +- {std_dev[1]:.3f}\")\n",
        "\n",
        "plt.plot(arr.cumsum(axis=0))\n",
        "plt.legend((\"player1\", \"player2\"))\n",
        "plt.show()"
      ],
      "metadata": {
        "id": "Jjis1_ZmnLAU",
        "outputId": "5062c4ef-d553-4a77-bf26-4ebe33921ac0",
        "colab": {
          "base_uri": "https://localhost:8080/",
          "height": 466
        }
      },
      "execution_count": 5,
      "outputs": [
        {
          "output_type": "stream",
          "name": "stdout",
          "text": [
            "death rate (in %) of player1: 34.8 +- 5.735\n",
            "death rate (in %) of player2: 33.5 +- 6.464\n"
          ]
        },
        {
          "output_type": "display_data",
          "data": {
            "text/plain": [
              "<Figure size 640x480 with 1 Axes>"
            ],
            "image/png": "[encoded data removed]"
          },
          "metadata": {}
        }
      ]
    },
    {
      "cell_type": "code",
      "source": [
        "#@title Case - both always defect\n",
        "episodes = 1000\n",
        "\n",
        "episode_rews = []\n",
        "\n",
        "for _ in range(episodes):\n",
        "\n",
        "    obs = env.reset()\n",
        "    while env.agents:\n",
        "        acts = {\n",
        "            \"player1\": 0,\n",
        "            \"player2\": 0\n",
        "        }\n",
        "\n",
        "        obs, rews, terms, truncs, infos = env.step(acts)\n",
        "        # print(obs, rews)\n",
        "\n",
        "    episode_rews.append([rews['player1'], rews['player2']])\n",
        "\n",
        "arr = np.array(episode_rews)\n",
        "interval_size = 100\n",
        "num_intervals = episodes // interval_size\n",
        "\n",
        "means = []\n",
        "std_devs = []\n",
        "\n",
        "for i in range(0, episodes, interval_size):\n",
        "    interval_data = arr[i:i+interval_size]\n",
        "    mean = np.mean(interval_data, axis=0)\n",
        "    means.append(mean)\n",
        "\n",
        "for i in range(num_intervals - 1):\n",
        "    mean_diff = means[i+1] - means[i]\n",
        "    std_devs.append(mean_diff)\n",
        "\n",
        "avg = (np.mean(arr, axis=0)) * -100\n",
        "std_dev = np.std(std_devs, axis=0) * 100\n",
        "\n",
        "print(f\"death rate (in %) of player1: {avg[0]:.1f} +- {std_dev[0]:.3f}\")\n",
        "print(f\"death rate (in %) of player2: {avg[1]:.1f} +- {std_dev[1]:.3f}\")\n",
        "plt.plot(arr.cumsum(axis=0))\n",
        "plt.legend((\"player1\", \"player2\"))\n",
        "plt.show()"
      ],
      "metadata": {
        "id": "BzouXpxctexb",
        "outputId": "9269b060-6f86-4611-d1b1-988a3368c9e8",
        "colab": {
          "base_uri": "https://localhost:8080/",
          "height": 466
        }
      },
      "execution_count": 6,
      "outputs": [
        {
          "output_type": "stream",
          "name": "stdout",
          "text": [
            "death rate (in %) of player1: 49.9 +- 4.140\n",
            "death rate (in %) of player2: 48.6 +- 5.497\n"
          ]
        },
        {
          "output_type": "display_data",
          "data": {
            "text/plain": [
              "<Figure size 640x480 with 1 Axes>"
            ],
            "image/png": "[encoded data removed]"
          },
          "metadata": {}
        }
      ]
    },
    {
      "cell_type": "code",
      "source": [
        "#@title Case - player1 cooperates, player2 defects\n",
        "episodes = 1000\n",
        "\n",
        "episode_rews = []\n",
        "\n",
        "for _ in range(episodes):\n",
        "\n",
        "    obs = env.reset()\n",
        "    while env.agents:\n",
        "        acts = {\n",
        "            \"player1\": 1,\n",
        "            \"player2\": 0\n",
        "        }\n",
        "\n",
        "        obs, rews, terms, truncs, infos = env.step(acts)\n",
        "        # print(obs, rews)\n",
        "\n",
        "    episode_rews.append([rews['player1'], rews['player2']])\n",
        "\n",
        "arr = np.array(episode_rews)\n",
        "interval_size = 100\n",
        "num_intervals = episodes // interval_size\n",
        "\n",
        "means = []\n",
        "std_devs = []\n",
        "\n",
        "for i in range(0, episodes, interval_size):\n",
        "    interval_data = arr[i:i+interval_size]\n",
        "    mean = np.mean(interval_data, axis=0)\n",
        "    means.append(mean)\n",
        "\n",
        "for i in range(num_intervals - 1):\n",
        "    mean_diff = means[i+1] - means[i]\n",
        "    std_devs.append(mean_diff)\n",
        "\n",
        "avg = (np.mean(arr, axis=0)) * -100\n",
        "std_dev = np.std(std_devs, axis=0) * 100\n",
        "\n",
        "print(f\"death rate (in %) of player1: {avg[0]:.1f} +- {std_dev[0]:.3f}\")\n",
        "print(f\"death rate (in %) of player2: {avg[1]:.1f} +- {std_dev[1]:.3f}\")\n",
        "plt.plot(arr.cumsum(axis=0))\n",
        "plt.legend((\"player1\", \"player2\"))\n",
        "plt.show()"
      ],
      "metadata": {
        "id": "O6bsaAEftnB0",
        "outputId": "255ccdba-90d6-4d37-98c4-b9e550217b6e",
        "colab": {
          "base_uri": "https://localhost:8080/",
          "height": 466
        }
      },
      "execution_count": 7,
      "outputs": [
        {
          "output_type": "stream",
          "name": "stdout",
          "text": [
            "death rate (in %) of player1: 63.1 +- 6.925\n",
            "death rate (in %) of player2: -0.0 +- 0.000\n"
          ]
        },
        {
          "output_type": "display_data",
          "data": {
            "text/plain": [
              "<Figure size 640x480 with 1 Axes>"
            ],
            "image/png": "[encoded data removed]"
          },
          "metadata": {}
        }
      ]
    },
    {
      "cell_type": "code",
      "source": [
        "#@title Case - Always cooperate vs random agent\n",
        "episodes = 1000\n",
        "\n",
        "episode_rews = []\n",
        "\n",
        "for _ in range(episodes):\n",
        "\n",
        "    obs = env.reset()\n",
        "    while env.agents:\n",
        "        acts = {\n",
        "            \"player1\": 1,\n",
        "            \"player2\": np.random.choice([0, 1])\n",
        "        }\n",
        "\n",
        "        obs, rews, terms, truncs, infos = env.step(acts)\n",
        "        # print(obs, rews)\n",
        "\n",
        "    episode_rews.append([rews['player1'], rews['player2']])\n",
        "\n",
        "arr = np.array(episode_rews)\n",
        "interval_size = 100\n",
        "num_intervals = episodes // interval_size\n",
        "\n",
        "means = []\n",
        "std_devs = []\n",
        "\n",
        "for i in range(0, episodes, interval_size):\n",
        "    interval_data = arr[i:i+interval_size]\n",
        "    mean = np.mean(interval_data, axis=0)\n",
        "    means.append(mean)\n",
        "\n",
        "for i in range(num_intervals - 1):\n",
        "    mean_diff = means[i+1] - means[i]\n",
        "    std_devs.append(mean_diff)\n",
        "\n",
        "avg = (np.mean(arr, axis=0)) * -100\n",
        "std_dev = np.std(std_devs, axis=0) * 100\n",
        "\n",
        "print(f\"death rate (in %) of player1: {avg[0]:.1f} +- {std_dev[0]:.3f}\")\n",
        "print(f\"death rate (in %) of player2: {avg[1]:.1f} +- {std_dev[1]:.3f}\")\n",
        "plt.plot(arr.cumsum(axis=0))\n",
        "plt.legend((\"player1\", \"player2\"))\n",
        "plt.show()"
      ],
      "metadata": {
        "id": "BWdFI5lpt7Dj",
        "outputId": "e16125b0-3408-41ec-c442-ac97c9d42048",
        "colab": {
          "base_uri": "https://localhost:8080/",
          "height": 466
        }
      },
      "execution_count": 8,
      "outputs": [
        {
          "output_type": "stream",
          "name": "stdout",
          "text": [
            "death rate (in %) of player1: 48.6 +- 7.757\n",
            "death rate (in %) of player2: 14.7 +- 8.625\n"
          ]
        },
        {
          "output_type": "display_data",
          "data": {
            "text/plain": [
              "<Figure size 640x480 with 1 Axes>"
            ],
            "image/png": "[encoded data removed]"
          },
          "metadata": {}
        }
      ]
    },
    {
      "cell_type": "code",
      "source": [
        "#@title Case - Always defect vs random agent\n",
        "episodes = 1000\n",
        "\n",
        "episode_rews = []\n",
        "\n",
        "for _ in range(episodes):\n",
        "\n",
        "    obs = env.reset()\n",
        "    while env.agents:\n",
        "        acts = {\n",
        "            \"player1\": 0,\n",
        "            \"player2\": np.random.choice([0, 1])\n",
        "        }\n",
        "\n",
        "        obs, rews, terms, truncs, infos = env.step(acts)\n",
        "        # print(obs, rews)\n",
        "\n",
        "    episode_rews.append([rews['player1'], rews['player2']])\n",
        "\n",
        "arr = np.array(episode_rews)\n",
        "interval_size = 100\n",
        "num_intervals = episodes // interval_size\n",
        "\n",
        "means = []\n",
        "std_devs = []\n",
        "\n",
        "for i in range(0, episodes, interval_size):\n",
        "    interval_data = arr[i:i+interval_size]\n",
        "    mean = np.mean(interval_data, axis=0)\n",
        "    means.append(mean)\n",
        "\n",
        "for i in range(num_intervals - 1):\n",
        "    mean_diff = means[i+1] - means[i]\n",
        "    std_devs.append(mean_diff)\n",
        "\n",
        "avg = (np.mean(arr, axis=0)) * -100\n",
        "std_dev = np.std(std_devs, axis=0) * 100\n",
        "\n",
        "print(f\"death rate (in %) of player1: {avg[0]:.1f} +- {std_dev[0]:.3f}\")\n",
        "print(f\"death rate (in %) of player2: {avg[1]:.1f} +- {std_dev[1]:.3f}\")\n",
        "plt.plot(arr.cumsum(axis=0))\n",
        "plt.legend((\"player1\", \"player2\"))\n",
        "plt.show()"
      ],
      "metadata": {
        "id": "Kwe16H5axI8H",
        "outputId": "31920065-15b0-4244-abd8-bf509ab6f14a",
        "colab": {
          "base_uri": "https://localhost:8080/",
          "height": 466
        }
      },
      "execution_count": 9,
      "outputs": [
        {
          "output_type": "stream",
          "name": "stdout",
          "text": [
            "death rate (in %) of player1: 20.8 +- 1.853\n",
            "death rate (in %) of player2: 60.5 +- 9.068\n"
          ]
        },
        {
          "output_type": "display_data",
          "data": {
            "text/plain": [
              "<Figure size 640x480 with 1 Axes>"
            ],
            "image/png": "[encoded data removed]"
          },
          "metadata": {}
        }
      ]
    },
    {
      "cell_type": "code",
      "source": [
        "#@title Define heuristic algos in Tianshou\n",
        "## agent that always plays\n",
        "class AlwaysPlay(BasePolicy):\n",
        "    def __init__(self, **kwargs):\n",
        "        self.nolearn = True\n",
        "        super().__init__(**kwargs)\n",
        "\n",
        "    def forward(self, batch, state = None):\n",
        "        mask = batch.obs.mask\n",
        "        logits = np.zeros(mask.shape)\n",
        "        logits[:, 1] = 1\n",
        "        logits[~mask] = -np.inf\n",
        "        return Batch(act=logits.argmax(axis=-1))\n",
        "\n",
        "    def learn(self, batch):\n",
        "        return {}\n",
        "\n",
        "## agent that always waits\n",
        "class AlwaysWait(BasePolicy):\n",
        "    def __init__(self, **kwargs):\n",
        "        self.nolearn = True\n",
        "        super().__init__(**kwargs)\n",
        "\n",
        "    def forward(self, batch, state = None):\n",
        "        mask = batch.obs.mask\n",
        "        logits = np.zeros(mask.shape)\n",
        "        logits[:, 0] = 1\n",
        "        logits[~mask] = -np.inf\n",
        "        return Batch(act=logits.argmax(axis=-1))\n",
        "\n",
        "    def learn(self, batch):\n",
        "        return {}\n",
        "\n",
        "## agent that waits for low health to play\n",
        "class HailMary(BasePolicy):\n",
        "    def __init__(self, **kwargs):\n",
        "        self.nolearn = True\n",
        "        super().__init__(**kwargs)\n",
        "\n",
        "    def forward(self, batch, state = None):\n",
        "        mask = batch.obs.mask\n",
        "        logits = np.zeros(mask.shape)\n",
        "        obs = batch.obs.obs\n",
        "\n",
        "        for i in range(mask.shape[0]):\n",
        "            if obs[i, :, 2] <= 1:\n",
        "                logits[i, 1] = 1\n",
        "            else:\n",
        "                logits[i, 0] = 1\n",
        "        logits[~mask] = -np.inf\n",
        "        return Batch(act=logits.argmax(axis=-1))\n",
        "\n",
        "    def learn(self, batch):\n",
        "        return {}\n",
        "\n",
        "## random agent\n",
        "class RandomAgent(BasePolicy):\n",
        "    def __init__(self, **kwargs):\n",
        "        self.nolearn = True\n",
        "        super().__init__(**kwargs)\n",
        "\n",
        "    def forward(self, batch, state = None):\n",
        "        mask = batch.obs.mask\n",
        "        logits = np.zeros(mask.shape)\n",
        "        logits[:, np.random.choice([0, 1])] = 1\n",
        "        logits[~mask] = -np.inf\n",
        "        return Batch(act=logits.argmax(axis=-1))\n",
        "\n",
        "    def learn(self, batch):\n",
        "        return {}"
      ],
      "metadata": {
        "id": "9Xx5PvFuxL7n"
      },
      "execution_count": 10,
      "outputs": []
    },
    {
      "cell_type": "code",
      "source": [
        "#@title Prerequisites for training\n",
        "# Step 2: Wrap the environment for Tianshou interfacing\n",
        "def _get_env_train():\n",
        "    env = SocialNeuro(cfg_name=\"comp_v0\", reward_struct=\"egoistic\")\n",
        "    vec_env = parallel_to_aec(env)\n",
        "    return PettingZooEnv(vec_env)\n",
        "\n",
        "def _get_env_test():\n",
        "    env = SocialNeuro(cfg_name=\"comp_v0\", reward_struct=\"egoistic\")\n",
        "    vec_env = parallel_to_aec(env)\n",
        "    return PettingZooEnv(vec_env)\n",
        "\n",
        "# seed\n",
        "seed = 42\n",
        "np.random.seed(seed)\n",
        "torch.manual_seed(seed)\n",
        "\n",
        "env = SocialNeuro(cfg_name=\"comp_v0\", reward_struct=\"egoistic\")\n",
        "agents =  env.agents[:]\n",
        "\n",
        "# Step 3: Define policies for each agent\n",
        "## learning agent\n",
        "def _get_agent(pretrained=False):\n",
        "    vec_env = _get_env_train()\n",
        "    net = Net(\n",
        "        state_shape=vec_env.observation_space.shape,\n",
        "        action_shape=vec_env.action_space.n,\n",
        "        hidden_sizes=[128, 128],\n",
        "        # device=\"cuda\",\n",
        "    )#.to(\"cuda\")\n",
        "    optim = Adam(net.parameters(), lr=1e-4)\n",
        "    model = DQNPolicy(\n",
        "        model=net,\n",
        "        optim=optim,\n",
        "        discount_factor=0.9,\n",
        "        estimation_step=3,\n",
        "        target_update_freq=50,\n",
        "    )\n",
        "\n",
        "    if pretrained:\n",
        "        model_save_path = os.path.join(\"models\", \"vs_hail_mary.pth\")\n",
        "        model.load_state_dict(torch.load(model_save_path))\n",
        "    return model\n",
        "\n",
        "agent_learn1 = _get_agent(pretrained=False)\n",
        "agent_learn2 = _get_agent(pretrained=False)\n",
        "\n",
        "train_policies = MultiAgentPolicyManager([agent_learn1, agent_learn2],  _get_env_train())\n",
        "\n",
        "train_envs = DummyVectorEnv([_get_env_train for _ in range(10)])\n",
        "test_envs = DummyVectorEnv([_get_env_test for _ in range(2)])\n",
        "train_envs.seed(seed)\n",
        "test_envs.seed(seed)\n",
        "\n",
        "# Step 4: Collector setup\n",
        "train_collector = Collector(\n",
        "    train_policies,\n",
        "    train_envs,\n",
        "    VectorReplayBuffer(20_000, len(train_envs)),\n",
        "    exploration_noise=True,\n",
        ")\n",
        "\n",
        "test_policies = MultiAgentPolicyManager([agent_learn1, agent_learn2],  _get_env_test())\n",
        "test_collector = Collector(test_policies, test_envs, exploration_noise=True)\n",
        "\n",
        "train_collector.collect(n_episode=50)\n",
        "\n",
        "def save_best_fn(policy):\n",
        "    model_save_path1 = os.path.join(\"log\", \"hommul\", \"dqn\", \"policy1.pth\")\n",
        "    model_save_path2 = os.path.join(\"log\", \"hommul\", \"dqn\", \"policy2.pth\")\n",
        "    os.makedirs(os.path.join(\"log\", \"hommul\", \"dqn\"), exist_ok=True)\n",
        "    if not hasattr(train_policies.policies[agents[0]], 'nolearn'):\n",
        "        torch.save(train_policies.policies[agents[0]].state_dict(), model_save_path1)\n",
        "    if not hasattr(train_policies.policies[agents[1]], 'nolearn'):\n",
        "        torch.save(train_policies.policies[agents[1]].state_dict(), model_save_path2)\n",
        "\n",
        "def stop_fn(mean_rewards):\n",
        "    return mean_rewards >= 0\n",
        "\n",
        "def train_fn(epoch, env_step):\n",
        "    # freeze training for player1\n",
        "    if not hasattr(train_policies.policies[agents[0]], 'nolearn'):\n",
        "        train_policies.policies[agents[0]].set_eps(0.05)\n",
        "\n",
        "    if not hasattr(train_policies.policies[agents[1]], 'nolearn'):\n",
        "        train_policies.policies[agents[1]].set_eps(0.1)\n",
        "\n",
        "def test_fn(epoch, env_step):\n",
        "    if not hasattr(train_policies.policies[agents[0]], 'nolearn'):\n",
        "        train_policies.policies[agents[0]].set_eps(0.05)\n",
        "\n",
        "    if not hasattr(train_policies.policies[agents[1]], 'nolearn'):\n",
        "        train_policies.policies[agents[1]].set_eps(0.05)\n",
        "\n",
        "def reward_metric(rews):\n",
        "    return rews[:, 1]\n",
        ""
      ],
      "metadata": {
        "id": "_7vQDpF9x2V2"
      },
      "execution_count": 22,
      "outputs": []
    },
    {
      "cell_type": "code",
      "source": [
        "#@title Clear logs and setup TensorBoard\n",
        "!rm -rf /content/HomMul/log\n",
        "\n",
        "log_path = os.path.join(\"log\", \"hommul\", \"dqn\")\n",
        "writer = SummaryWriter(log_path)\n",
        "logger = TensorboardLogger(writer)"
      ],
      "metadata": {
        "id": "dplv1noxy7-4"
      },
      "execution_count": 23,
      "outputs": []
    },
    {
      "cell_type": "code",
      "source": [
        "#@title Training\n",
        "for evolution in range(2):\n",
        "    print(f\"#### Evolution {evolution+1}\")\n",
        "    result = offpolicy_trainer(\n",
        "        policy=train_policies,\n",
        "        train_collector=train_collector,\n",
        "        test_collector=test_collector,\n",
        "        max_epoch=20,\n",
        "        step_per_epoch=1000,\n",
        "        step_per_collect=50,\n",
        "        episode_per_test=100,\n",
        "        batch_size=64,\n",
        "        train_fn=train_fn,\n",
        "        test_fn=test_fn,\n",
        "        stop_fn=stop_fn,\n",
        "        save_best_fn=save_best_fn,\n",
        "        update_per_step=0.1,\n",
        "        test_in_train=False,\n",
        "        reward_metric=reward_metric,\n",
        "        logger=logger\n",
        "    )\n",
        "\n",
        "    model_save_path2 = os.path.join(\"log\", \"hommul\", \"dqn\", \"policy2.pth\")\n",
        "    if not hasattr(train_policies.policies[agents[0]], 'nolearn'):\n",
        "        train_policies.policies[agents[0]].load_state_dict(torch.load(model_save_path2))\n",
        "        train_policies.policies[agents[1]].load_state_dict(torch.load(model_save_path2))\n",
        "\n",
        "    result = test_collector.collect(n_episode=1000)\n",
        "    arr = result[\"rews\"]\n",
        "    interval_size = 100\n",
        "    num_intervals = episodes // interval_size\n",
        "\n",
        "    means = []\n",
        "    std_devs = []\n",
        "\n",
        "    for i in range(0, episodes, interval_size):\n",
        "        interval_data = arr[i:i+interval_size]\n",
        "        mean = np.mean(interval_data, axis=0)\n",
        "        means.append(mean)\n",
        "\n",
        "    for i in range(num_intervals - 1):\n",
        "        mean_diff = means[i+1] - means[i]\n",
        "        std_devs.append(mean_diff)\n",
        "\n",
        "    avg = (np.mean(arr, axis=0)) * -100\n",
        "    std_dev = np.std(std_devs, axis=0) * 100\n",
        "\n",
        "    print(\"#\"*10)\n",
        "    print()\n",
        "    print(f\"death rate (in %) of player1: {avg[0]:.1f} +- {std_dev[0]:.3f}\")\n",
        "    print(f\"death rate (in %) of player2: {avg[1]:.1f} +- {std_dev[1]:.3f}\")\n",
        "    plt.plot(arr.cumsum(axis=0))\n",
        "    plt.legend((\"player1\", \"player2\"))\n",
        "    plt.show()\n",
        "\n",
        "    print()"
      ],
      "metadata": {
        "id": "3wf2nFz2zDCG",
        "outputId": "e22ff5d4-a6d9-4386-f2b0-671b111a1d48",
        "colab": {
          "base_uri": "https://localhost:8080/",
          "height": 1000
        }
      },
      "execution_count": 24,
      "outputs": [
        {
          "output_type": "stream",
          "name": "stdout",
          "text": [
            "#### Evolution 1\n"
          ]
        },
        {
          "output_type": "stream",
          "name": "stderr",
          "text": [
            "Epoch #1: 1001it [00:04, 243.67it/s, env_step=1000, len=2, n/ep=21, n/st=50, player1/loss=0.139, player2/loss=0.172, rew=0.00]                          \n"
          ]
        },
        {
          "output_type": "stream",
          "name": "stdout",
          "text": [
            "Epoch #1: test_reward: -0.020000 ± 0.140000, best_reward: -0.020000 ± 0.140000 in #1\n"
          ]
        },
        {
          "output_type": "stream",
          "name": "stderr",
          "text": [
            "Epoch #2: 1001it [00:04, 245.97it/s, env_step=2000, len=3, n/ep=15, n/st=50, player1/loss=0.178, player2/loss=0.066, rew=0.00]                          \n"
          ]
        },
        {
          "output_type": "stream",
          "name": "stdout",
          "text": [
            "Epoch #2: test_reward: -0.020000 ± 0.140000, best_reward: -0.020000 ± 0.140000 in #1\n"
          ]
        },
        {
          "output_type": "stream",
          "name": "stderr",
          "text": [
            "Epoch #3: 1001it [00:04, 201.07it/s, env_step=3000, len=3, n/ep=19, n/st=50, player1/loss=0.193, player2/loss=0.053, rew=-0.26]                          \n"
          ]
        },
        {
          "output_type": "stream",
          "name": "stdout",
          "text": [
            "Epoch #3: test_reward: -0.140000 ± 0.346987, best_reward: -0.020000 ± 0.140000 in #1\n"
          ]
        },
        {
          "output_type": "stream",
          "name": "stderr",
          "text": [
            "Epoch #4: 1001it [00:03, 253.78it/s, env_step=4000, len=3, n/ep=18, n/st=50, player1/loss=0.173, player2/loss=0.076, rew=-0.39]                          \n"
          ]
        },
        {
          "output_type": "stream",
          "name": "stdout",
          "text": [
            "Epoch #4: test_reward: -0.400000 ± 0.489898, best_reward: -0.020000 ± 0.140000 in #1\n"
          ]
        },
        {
          "output_type": "stream",
          "name": "stderr",
          "text": [
            "Epoch #5: 1001it [00:04, 202.65it/s, env_step=5000, len=3, n/ep=17, n/st=50, player1/loss=0.179, player2/loss=0.120, rew=-0.47]                          \n"
          ]
        },
        {
          "output_type": "stream",
          "name": "stdout",
          "text": [
            "Epoch #5: test_reward: -0.380000 ± 0.485386, best_reward: -0.020000 ± 0.140000 in #1\n"
          ]
        },
        {
          "output_type": "stream",
          "name": "stderr",
          "text": [
            "Epoch #6: 1001it [00:03, 255.14it/s, env_step=6000, len=3, n/ep=16, n/st=50, player1/loss=0.194, player2/loss=0.151, rew=-0.44]                          \n"
          ]
        },
        {
          "output_type": "stream",
          "name": "stdout",
          "text": [
            "Epoch #6: test_reward: -0.380000 ± 0.485386, best_reward: -0.020000 ± 0.140000 in #1\n"
          ]
        },
        {
          "output_type": "stream",
          "name": "stderr",
          "text": [
            "Epoch #7: 1001it [00:03, 253.69it/s, env_step=7000, len=3, n/ep=20, n/st=50, player1/loss=0.181, player2/loss=0.170, rew=-0.35]                          \n"
          ]
        },
        {
          "output_type": "stream",
          "name": "stdout",
          "text": [
            "Epoch #7: test_reward: -0.280000 ± 0.448999, best_reward: -0.020000 ± 0.140000 in #1\n"
          ]
        },
        {
          "output_type": "stream",
          "name": "stderr",
          "text": [
            "Epoch #8: 1001it [00:04, 208.57it/s, env_step=8000, len=2, n/ep=19, n/st=50, player1/loss=0.165, player2/loss=0.166, rew=-0.42]                          \n"
          ]
        },
        {
          "output_type": "stream",
          "name": "stdout",
          "text": [
            "Epoch #8: test_reward: -0.290000 ± 0.453762, best_reward: -0.020000 ± 0.140000 in #1\n"
          ]
        },
        {
          "output_type": "stream",
          "name": "stderr",
          "text": [
            "Epoch #9: 1001it [00:04, 244.19it/s, env_step=9000, len=2, n/ep=23, n/st=50, player1/loss=0.152, player2/loss=0.167, rew=-0.26]                          \n"
          ]
        },
        {
          "output_type": "stream",
          "name": "stdout",
          "text": [
            "Epoch #9: test_reward: -0.310000 ± 0.462493, best_reward: -0.020000 ± 0.140000 in #1\n"
          ]
        },
        {
          "output_type": "stream",
          "name": "stderr",
          "text": [
            "Epoch #10: 1001it [00:05, 193.41it/s, env_step=10000, len=3, n/ep=19, n/st=50, player1/loss=0.149, player2/loss=0.167, rew=-0.47]                          \n"
          ]
        },
        {
          "output_type": "stream",
          "name": "stdout",
          "text": [
            "Epoch #10: test_reward: -0.370000 ± 0.482804, best_reward: -0.020000 ± 0.140000 in #1\n"
          ]
        },
        {
          "output_type": "stream",
          "name": "stderr",
          "text": [
            "Epoch #11: 1001it [00:04, 247.71it/s, env_step=11000, len=2, n/ep=21, n/st=50, player1/loss=0.133, player2/loss=0.185, rew=-0.24]                          \n"
          ]
        },
        {
          "output_type": "stream",
          "name": "stdout",
          "text": [
            "Epoch #11: test_reward: -0.380000 ± 0.485386, best_reward: -0.020000 ± 0.140000 in #1\n"
          ]
        },
        {
          "output_type": "stream",
          "name": "stderr",
          "text": [
            "Epoch #12: 1001it [00:04, 217.45it/s, env_step=12000, len=3, n/ep=21, n/st=50, player1/loss=0.114, player2/loss=0.187, rew=-0.48]                          \n"
          ]
        },
        {
          "output_type": "stream",
          "name": "stdout",
          "text": [
            "Epoch #12: test_reward: -0.350000 ± 0.476970, best_reward: -0.020000 ± 0.140000 in #1\n"
          ]
        },
        {
          "output_type": "stream",
          "name": "stderr",
          "text": [
            "Epoch #13: 1001it [00:05, 197.79it/s, env_step=13000, len=3, n/ep=22, n/st=50, player1/loss=0.116, player2/loss=0.203, rew=-0.41]                          \n"
          ]
        },
        {
          "output_type": "stream",
          "name": "stdout",
          "text": [
            "Epoch #13: test_reward: -0.440000 ± 0.496387, best_reward: -0.020000 ± 0.140000 in #1\n"
          ]
        },
        {
          "output_type": "stream",
          "name": "stderr",
          "text": [
            "Epoch #14: 1001it [00:03, 254.06it/s, env_step=14000, len=3, n/ep=20, n/st=50, player1/loss=0.096, player2/loss=0.204, rew=-0.50]                          \n"
          ]
        },
        {
          "output_type": "stream",
          "name": "stdout",
          "text": [
            "Epoch #14: test_reward: -0.430000 ± 0.495076, best_reward: -0.020000 ± 0.140000 in #1\n"
          ]
        },
        {
          "output_type": "stream",
          "name": "stderr",
          "text": [
            "Epoch #15: 1001it [00:05, 192.69it/s, env_step=15000, len=3, n/ep=22, n/st=50, player1/loss=0.097, player2/loss=0.223, rew=-0.36]                          \n"
          ]
        },
        {
          "output_type": "stream",
          "name": "stdout",
          "text": [
            "Epoch #15: test_reward: -0.460000 ± 0.498397, best_reward: -0.020000 ± 0.140000 in #1\n"
          ]
        },
        {
          "output_type": "stream",
          "name": "stderr",
          "text": [
            "Epoch #16: 1001it [00:03, 251.08it/s, env_step=16000, len=2, n/ep=19, n/st=50, player1/loss=0.085, player2/loss=0.210, rew=-0.47]                          \n"
          ]
        },
        {
          "output_type": "stream",
          "name": "stdout",
          "text": [
            "Epoch #16: test_reward: -0.280000 ± 0.448999, best_reward: -0.020000 ± 0.140000 in #1\n"
          ]
        },
        {
          "output_type": "stream",
          "name": "stderr",
          "text": [
            "Epoch #17: 1001it [00:05, 197.16it/s, env_step=17000, len=2, n/ep=19, n/st=50, player1/loss=0.090, player2/loss=0.216, rew=-0.47]                          \n"
          ]
        },
        {
          "output_type": "stream",
          "name": "stdout",
          "text": [
            "Epoch #17: test_reward: -0.450000 ± 0.497494, best_reward: -0.020000 ± 0.140000 in #1\n"
          ]
        },
        {
          "output_type": "stream",
          "name": "stderr",
          "text": [
            "Epoch #18: 1001it [00:04, 246.68it/s, env_step=18000, len=2, n/ep=23, n/st=50, player1/loss=0.088, player2/loss=0.209, rew=-0.22]                          \n"
          ]
        },
        {
          "output_type": "stream",
          "name": "stdout",
          "text": [
            "Epoch #18: test_reward: -0.420000 ± 0.493559, best_reward: -0.020000 ± 0.140000 in #1\n"
          ]
        },
        {
          "output_type": "stream",
          "name": "stderr",
          "text": [
            "Epoch #19: 1001it [00:03, 251.69it/s, env_step=19000, len=3, n/ep=22, n/st=50, player1/loss=0.078, player2/loss=0.216, rew=-0.27]                          \n"
          ]
        },
        {
          "output_type": "stream",
          "name": "stdout",
          "text": [
            "Epoch #19: test_reward: -0.450000 ± 0.497494, best_reward: -0.020000 ± 0.140000 in #1\n"
          ]
        },
        {
          "output_type": "stream",
          "name": "stderr",
          "text": [
            "Epoch #20: 1001it [00:04, 225.67it/s, env_step=20000, len=2, n/ep=22, n/st=50, player1/loss=0.074, player2/loss=0.223, rew=-0.32]                          \n"
          ]
        },
        {
          "output_type": "stream",
          "name": "stdout",
          "text": [
            "Epoch #20: test_reward: -0.370000 ± 0.482804, best_reward: -0.020000 ± 0.140000 in #1\n",
            "##########\n",
            "\n",
            "death rate (in %) of player1: 45.3 +- 6.325\n",
            "death rate (in %) of player2: 49.0 +- 4.605\n"
          ]
        },
        {
          "output_type": "display_data",
          "data": {
            "text/plain": [
              "<Figure size 640x480 with 1 Axes>"
            ],
            "image/png": "[encoded data removed]"
          },
          "metadata": {}
        },
        {
          "output_type": "stream",
          "name": "stdout",
          "text": [
            "\n",
            "#### Evolution 2\n"
          ]
        },
        {
          "output_type": "stream",
          "name": "stderr",
          "text": [
            "Epoch #1: 1001it [00:04, 243.58it/s, env_step=1000, len=2, n/ep=21, n/st=50, player1/loss=0.126, player2/loss=0.179, rew=-0.19]                          \n"
          ]
        },
        {
          "output_type": "stream",
          "name": "stdout",
          "text": [
            "Epoch #1: test_reward: -0.230000 ± 0.420833, best_reward: -0.230000 ± 0.420833 in #1\n"
          ]
        },
        {
          "output_type": "stream",
          "name": "stderr",
          "text": [
            "Epoch #2: 1001it [00:05, 198.79it/s, env_step=2000, len=3, n/ep=18, n/st=50, player1/loss=0.102, player2/loss=0.180, rew=-0.28]                          \n"
          ]
        },
        {
          "output_type": "stream",
          "name": "stdout",
          "text": [
            "Epoch #2: test_reward: -0.280000 ± 0.448999, best_reward: -0.230000 ± 0.420833 in #1\n"
          ]
        },
        {
          "output_type": "stream",
          "name": "stderr",
          "text": [
            "Epoch #3: 1001it [00:03, 259.79it/s, env_step=3000, len=3, n/ep=17, n/st=50, player1/loss=0.108, player2/loss=0.166, rew=-0.18]                          \n"
          ]
        },
        {
          "output_type": "stream",
          "name": "stdout",
          "text": [
            "Epoch #3: test_reward: -0.330000 ± 0.470213, best_reward: -0.230000 ± 0.420833 in #1\n"
          ]
        },
        {
          "output_type": "stream",
          "name": "stderr",
          "text": [
            "Epoch #4: 1001it [00:04, 237.77it/s, env_step=4000, len=3, n/ep=19, n/st=50, player1/loss=0.108, player2/loss=0.158, rew=-0.47]                          \n"
          ]
        },
        {
          "output_type": "stream",
          "name": "stdout",
          "text": [
            "Epoch #4: test_reward: -0.390000 ± 0.487750, best_reward: -0.230000 ± 0.420833 in #1\n"
          ]
        },
        {
          "output_type": "stream",
          "name": "stderr",
          "text": [
            "Epoch #5: 1001it [00:04, 227.15it/s, env_step=5000, len=3, n/ep=19, n/st=50, player1/loss=0.095, player2/loss=0.150, rew=-0.11]                          \n"
          ]
        },
        {
          "output_type": "stream",
          "name": "stdout",
          "text": [
            "Epoch #5: test_reward: -0.210000 ± 0.407308, best_reward: -0.210000 ± 0.407308 in #5\n"
          ]
        },
        {
          "output_type": "stream",
          "name": "stderr",
          "text": [
            "Epoch #6: 1001it [00:04, 248.85it/s, env_step=6000, len=3, n/ep=21, n/st=50, player1/loss=0.093, player2/loss=0.139, rew=-0.29]                          \n"
          ]
        },
        {
          "output_type": "stream",
          "name": "stdout",
          "text": [
            "Epoch #6: test_reward: -0.350000 ± 0.476970, best_reward: -0.210000 ± 0.407308 in #5\n"
          ]
        },
        {
          "output_type": "stream",
          "name": "stderr",
          "text": [
            "Epoch #7: 1001it [00:05, 199.94it/s, env_step=7000, len=3, n/ep=19, n/st=50, player1/loss=0.103, player2/loss=0.162, rew=-0.58]                          \n"
          ]
        },
        {
          "output_type": "stream",
          "name": "stdout",
          "text": [
            "Epoch #7: test_reward: -0.400000 ± 0.489898, best_reward: -0.210000 ± 0.407308 in #5\n"
          ]
        },
        {
          "output_type": "stream",
          "name": "stderr",
          "text": [
            "Epoch #8: 1001it [00:04, 241.87it/s, env_step=8000, len=3, n/ep=17, n/st=50, player1/loss=0.095, player2/loss=0.148, rew=-0.35]                          \n"
          ]
        },
        {
          "output_type": "stream",
          "name": "stdout",
          "text": [
            "Epoch #8: test_reward: -0.360000 ± 0.480000, best_reward: -0.210000 ± 0.407308 in #5\n"
          ]
        },
        {
          "output_type": "stream",
          "name": "stderr",
          "text": [
            "Epoch #9: 1001it [00:04, 205.42it/s, env_step=9000, len=3, n/ep=19, n/st=50, player1/loss=0.086, player2/loss=0.145, rew=-0.58]                          \n"
          ]
        },
        {
          "output_type": "stream",
          "name": "stdout",
          "text": [
            "Epoch #9: test_reward: -0.300000 ± 0.458258, best_reward: -0.210000 ± 0.407308 in #5\n"
          ]
        },
        {
          "output_type": "stream",
          "name": "stderr",
          "text": [
            "Epoch #10: 1001it [00:04, 242.60it/s, env_step=10000, len=3, n/ep=19, n/st=50, player1/loss=0.081, player2/loss=0.151, rew=-0.42]                          \n"
          ]
        },
        {
          "output_type": "stream",
          "name": "stdout",
          "text": [
            "Epoch #10: test_reward: -0.380000 ± 0.485386, best_reward: -0.210000 ± 0.407308 in #5\n"
          ]
        },
        {
          "output_type": "stream",
          "name": "stderr",
          "text": [
            "Epoch #11: 1001it [00:03, 251.96it/s, env_step=11000, len=2, n/ep=21, n/st=50, player1/loss=0.084, player2/loss=0.144, rew=-0.33]                          \n"
          ]
        },
        {
          "output_type": "stream",
          "name": "stdout",
          "text": [
            "Epoch #11: test_reward: -0.490000 ± 0.499900, best_reward: -0.210000 ± 0.407308 in #5\n"
          ]
        },
        {
          "output_type": "stream",
          "name": "stderr",
          "text": [
            "Epoch #12: 1001it [00:04, 210.10it/s, env_step=12000, len=3, n/ep=20, n/st=50, player1/loss=0.086, player2/loss=0.138, rew=-0.45]                          \n"
          ]
        },
        {
          "output_type": "stream",
          "name": "stdout",
          "text": [
            "Epoch #12: test_reward: -0.350000 ± 0.476970, best_reward: -0.210000 ± 0.407308 in #5\n"
          ]
        },
        {
          "output_type": "stream",
          "name": "stderr",
          "text": [
            "Epoch #13: 1001it [00:03, 251.30it/s, env_step=13000, len=3, n/ep=18, n/st=50, player1/loss=0.087, player2/loss=0.134, rew=-0.33]                          \n"
          ]
        },
        {
          "output_type": "stream",
          "name": "stdout",
          "text": [
            "Epoch #13: test_reward: -0.360000 ± 0.480000, best_reward: -0.210000 ± 0.407308 in #5\n"
          ]
        },
        {
          "output_type": "stream",
          "name": "stderr",
          "text": [
            "Epoch #14: 1001it [00:05, 193.96it/s, env_step=14000, len=3, n/ep=18, n/st=50, player1/loss=0.084, player2/loss=0.134, rew=-0.39]                          \n"
          ]
        },
        {
          "output_type": "stream",
          "name": "stdout",
          "text": [
            "Epoch #14: test_reward: -0.380000 ± 0.485386, best_reward: -0.210000 ± 0.407308 in #5\n"
          ]
        },
        {
          "output_type": "stream",
          "name": "stderr",
          "text": [
            "Epoch #15: 1001it [00:04, 243.87it/s, env_step=15000, len=2, n/ep=19, n/st=50, player1/loss=0.087, player2/loss=0.126, rew=-0.32]                          \n"
          ]
        },
        {
          "output_type": "stream",
          "name": "stdout",
          "text": [
            "Epoch #15: test_reward: -0.410000 ± 0.491833, best_reward: -0.210000 ± 0.407308 in #5\n"
          ]
        },
        {
          "output_type": "stream",
          "name": "stderr",
          "text": [
            "Epoch #16: 1001it [00:04, 224.45it/s, env_step=16000, len=3, n/ep=21, n/st=50, player1/loss=0.081, player2/loss=0.112, rew=-0.33]                          \n"
          ]
        },
        {
          "output_type": "stream",
          "name": "stdout",
          "text": [
            "Epoch #16: test_reward: -0.360000 ± 0.480000, best_reward: -0.210000 ± 0.407308 in #5\n"
          ]
        },
        {
          "output_type": "stream",
          "name": "stderr",
          "text": [
            "Epoch #17: 1001it [00:04, 239.61it/s, env_step=17000, len=2, n/ep=23, n/st=50, player1/loss=0.081, player2/loss=0.110, rew=-0.30]                          \n"
          ]
        },
        {
          "output_type": "stream",
          "name": "stdout",
          "text": [
            "Epoch #17: test_reward: -0.410000 ± 0.491833, best_reward: -0.210000 ± 0.407308 in #5\n"
          ]
        },
        {
          "output_type": "stream",
          "name": "stderr",
          "text": [
            "Epoch #18: 1001it [00:04, 243.78it/s, env_step=18000, len=2, n/ep=20, n/st=50, player1/loss=0.069, player2/loss=0.119, rew=-0.25]                          \n"
          ]
        },
        {
          "output_type": "stream",
          "name": "stdout",
          "text": [
            "Epoch #18: test_reward: -0.360000 ± 0.480000, best_reward: -0.210000 ± 0.407308 in #5\n"
          ]
        },
        {
          "output_type": "stream",
          "name": "stderr",
          "text": [
            "Epoch #19: 1001it [00:05, 198.85it/s, env_step=19000, len=3, n/ep=18, n/st=50, player1/loss=0.067, player2/loss=0.125, rew=-0.50]                          \n"
          ]
        },
        {
          "output_type": "stream",
          "name": "stdout",
          "text": [
            "Epoch #19: test_reward: -0.320000 ± 0.466476, best_reward: -0.210000 ± 0.407308 in #5\n"
          ]
        },
        {
          "output_type": "stream",
          "name": "stderr",
          "text": [
            "Epoch #20: 1001it [00:04, 243.54it/s, env_step=20000, len=3, n/ep=17, n/st=50, player1/loss=0.078, player2/loss=0.125, rew=-0.29]                          \n"
          ]
        },
        {
          "output_type": "stream",
          "name": "stdout",
          "text": [
            "Epoch #20: test_reward: -0.370000 ± 0.482804, best_reward: -0.210000 ± 0.407308 in #5\n",
            "##########\n",
            "\n",
            "death rate (in %) of player1: 46.6 +- 6.465\n",
            "death rate (in %) of player2: 47.3 +- 8.517\n"
          ]
        },
        {
          "output_type": "display_data",
          "data": {
            "text/plain": [
              "<Figure size 640x480 with 1 Axes>"
            ],
            "image/png": "[encoded data removed]"
          },
          "metadata": {}
        },
        {
          "output_type": "stream",
          "name": "stdout",
          "text": [
            "\n"
          ]
        }
      ]
    },
    {
      "cell_type": "code",
      "source": [
        "from itertools import product\n",
        "\n",
        "algos = [AlwaysPlay(), AlwaysWait(), HailMary(), RandomAgent(), agent_learn2]\n",
        "df = []\n",
        "\n",
        "for algo1, algo2 in product(algos, repeat=2):\n",
        "    test_policies = MultiAgentPolicyManager([algo1, algo2],  _get_env_test())\n",
        "    test_collector = Collector(test_policies, test_envs, exploration_noise=True)\n",
        "    result = test_collector.collect(n_episode=1000)\n",
        "    arr = result[\"rews\"]\n",
        "    interval_size = 100\n",
        "    num_intervals = episodes // interval_size\n",
        "\n",
        "    means = []\n",
        "    std_devs = []\n",
        "\n",
        "    for i in range(0, episodes, interval_size):\n",
        "        interval_data = arr[i:i+interval_size]\n",
        "        mean = np.mean(interval_data, axis=0)\n",
        "        means.append(mean)\n",
        "\n",
        "    for i in range(num_intervals - 1):\n",
        "        mean_diff = means[i+1] - means[i]\n",
        "        std_devs.append(mean_diff)\n",
        "\n",
        "    avg = (np.mean(arr, axis=0)) * -100\n",
        "    std_dev = np.std(std_devs, axis=0) * 100\n",
        "\n",
        "    df.append([str(algo1).split('(')[0], str(algo2).split('(')[0], avg[0], std_dev[0], avg[1], std_dev[1]])\n",
        "\n",
        "    print(\"#\"*10)\n",
        "    print()\n",
        "    print(f\"death rate (in %) of {str(algo1).split('(')[0]} as player1: {avg[0]:.1f} +- {std_dev[0]:.3f}\")\n",
        "    print(f\"death rate (in %) of {str(algo2).split('(')[0]} as player2: {avg[1]:.1f} +- {std_dev[1]:.3f}\")\n",
        "\n",
        "    print()"
      ],
      "metadata": {
        "id": "FKJJD25C0FJa",
        "outputId": "52a86880-6142-495e-a9ba-9d3a3325c5ec",
        "colab": {
          "base_uri": "https://localhost:8080/"
        }
      },
      "execution_count": 25,
      "outputs": [
        {
          "output_type": "stream",
          "name": "stdout",
          "text": [
            "##########\n",
            "\n",
            "death rate (in %) of AlwaysPlay as player1: 35.3 +- 7.305\n",
            "death rate (in %) of AlwaysPlay as player2: 32.7 +- 3.392\n",
            "\n",
            "##########\n",
            "\n",
            "death rate (in %) of AlwaysPlay as player1: 64.9 +- 6.600\n",
            "death rate (in %) of AlwaysWait as player2: -0.0 +- 0.000\n",
            "\n",
            "##########\n",
            "\n",
            "death rate (in %) of AlwaysPlay as player1: 59.4 +- 4.422\n",
            "death rate (in %) of HailMary as player2: 23.3 +- 3.333\n",
            "\n",
            "##########\n",
            "\n",
            "death rate (in %) of AlwaysPlay as player1: 53.4 +- 11.827\n",
            "death rate (in %) of RandomAgent as player2: 18.8 +- 6.164\n",
            "\n",
            "##########\n",
            "\n",
            "death rate (in %) of AlwaysPlay as player1: 64.0 +- 5.801\n",
            "death rate (in %) of DQNPolicy as player2: 0.2 +- 0.667\n",
            "\n",
            "##########\n",
            "\n",
            "death rate (in %) of AlwaysWait as player1: -0.0 +- 0.000\n",
            "death rate (in %) of AlwaysPlay as player2: 65.9 +- 3.957\n",
            "\n",
            "##########\n",
            "\n",
            "death rate (in %) of AlwaysWait as player1: 48.5 +- 6.327\n",
            "death rate (in %) of AlwaysWait as player2: 50.5 +- 8.171\n",
            "\n",
            "##########\n",
            "\n",
            "death rate (in %) of AlwaysWait as player1: 25.7 +- 5.230\n",
            "death rate (in %) of HailMary as player2: 39.8 +- 8.368\n",
            "\n",
            "##########\n",
            "\n",
            "death rate (in %) of AlwaysWait as player1: 23.5 +- 8.112\n",
            "death rate (in %) of RandomAgent as player2: 58.7 +- 12.101\n",
            "\n",
            "##########\n",
            "\n",
            "death rate (in %) of AlwaysWait as player1: 52.1 +- 6.957\n",
            "death rate (in %) of DQNPolicy as player2: 49.3 +- 8.328\n",
            "\n",
            "##########\n",
            "\n",
            "death rate (in %) of HailMary as player1: 9.8 +- 4.137\n",
            "death rate (in %) of AlwaysPlay as player2: 66.1 +- 3.224\n",
            "\n",
            "##########\n",
            "\n",
            "death rate (in %) of HailMary as player1: 57.1 +- 15.184\n",
            "death rate (in %) of AlwaysWait as player2: 5.1 +- 3.018\n",
            "\n",
            "##########\n",
            "\n",
            "death rate (in %) of HailMary as player1: 44.6 +- 7.330\n",
            "death rate (in %) of HailMary as player2: 36.9 +- 4.748\n",
            "\n",
            "##########\n",
            "\n",
            "death rate (in %) of HailMary as player1: 32.8 +- 6.285\n",
            "death rate (in %) of RandomAgent as player2: 37.7 +- 6.344\n",
            "\n",
            "##########\n",
            "\n",
            "death rate (in %) of HailMary as player1: 58.2 +- 5.164\n",
            "death rate (in %) of DQNPolicy as player2: 7.2 +- 3.944\n",
            "\n",
            "##########\n",
            "\n",
            "death rate (in %) of RandomAgent as player1: 15.7 +- 5.058\n",
            "death rate (in %) of AlwaysPlay as player2: 52.1 +- 9.104\n",
            "\n",
            "##########\n",
            "\n",
            "death rate (in %) of RandomAgent as player1: 58.2 +- 8.698\n",
            "death rate (in %) of AlwaysWait as player2: 24.5 +- 6.377\n",
            "\n",
            "##########\n",
            "\n",
            "death rate (in %) of RandomAgent as player1: 42.5 +- 8.595\n",
            "death rate (in %) of HailMary as player2: 30.3 +- 5.672\n",
            "\n",
            "##########\n",
            "\n",
            "death rate (in %) of RandomAgent as player1: 35.7 +- 6.256\n",
            "death rate (in %) of RandomAgent as player2: 40.2 +- 13.820\n",
            "\n",
            "##########\n",
            "\n",
            "death rate (in %) of RandomAgent as player1: 57.5 +- 6.896\n",
            "death rate (in %) of DQNPolicy as player2: 22.5 +- 5.558\n",
            "\n",
            "##########\n",
            "\n",
            "death rate (in %) of DQNPolicy as player1: 0.1 +- 0.314\n",
            "death rate (in %) of AlwaysPlay as player2: 62.9 +- 7.197\n",
            "\n",
            "##########\n",
            "\n",
            "death rate (in %) of DQNPolicy as player1: 51.2 +- 9.227\n",
            "death rate (in %) of AlwaysWait as player2: 50.2 +- 5.613\n",
            "\n",
            "##########\n",
            "\n",
            "death rate (in %) of DQNPolicy as player1: 29.0 +- 5.963\n",
            "death rate (in %) of HailMary as player2: 35.6 +- 5.850\n",
            "\n",
            "##########\n",
            "\n",
            "death rate (in %) of DQNPolicy as player1: 22.9 +- 4.076\n",
            "death rate (in %) of RandomAgent as player2: 59.1 +- 6.429\n",
            "\n",
            "##########\n",
            "\n",
            "death rate (in %) of DQNPolicy as player1: 47.6 +- 9.024\n",
            "death rate (in %) of DQNPolicy as player2: 47.5 +- 9.166\n",
            "\n"
          ]
        }
      ]
    },
    {
      "cell_type": "code",
      "source": [
        "df = pd.DataFrame(df, columns=[\"player1_name\", \"player2_name\", \"player1_mean_death_rate\", \"player1_std_dev_death_rate\", \"player2_mean_death_rate\", \"player2_std_dev_death_rate\"])\n",
        "df.head()"
      ],
      "metadata": {
        "id": "zxV0C_gu0n5J",
        "outputId": "458560a9-1b34-4139-dd05-7378c7cbbc04",
        "colab": {
          "base_uri": "https://localhost:8080/",
          "height": 262
        }
      },
      "execution_count": 26,
      "outputs": [
        {
          "output_type": "stream",
          "name": "stderr",
          "text": [
            "/usr/local/lib/python3.10/dist-packages/ipykernel/ipkernel.py:283: DeprecationWarning: `should_run_async` will not call `transform_cell` automatically in the future. Please pass the result to `transformed_cell` argument and any exception that happen during thetransform in `preprocessing_exc_tuple` in IPython 7.17 and above.\n",
            "  and should_run_async(code)\n"
          ]
        },
        {
          "output_type": "execute_result",
          "data": {
            "text/plain": [
              "  player1_name player2_name  player1_mean_death_rate  \\\n",
              "0   AlwaysPlay   AlwaysPlay                     35.3   \n",
              "1   AlwaysPlay   AlwaysWait                     64.9   \n",
              "2   AlwaysPlay     HailMary                     59.4   \n",
              "3   AlwaysPlay  RandomAgent                     53.4   \n",
              "4   AlwaysPlay    DQNPolicy                     64.0   \n",
              "\n",
              "   player1_std_dev_death_rate  player2_mean_death_rate  \\\n",
              "0                    7.304658                     32.7   \n",
              "1                    6.599663                     -0.0   \n",
              "2                    4.422166                     23.3   \n",
              "3                   11.826941                     18.8   \n",
              "4                    5.801234                      0.2   \n",
              "\n",
              "   player2_std_dev_death_rate  \n",
              "0                    3.392075  \n",
              "1                    0.000000  \n",
              "2                    3.333333  \n",
              "3                    6.164414  \n",
              "4                    0.666667  "
            ],
            "text/html": [
              "\n",
              "  <div id=\"df-4586549b-c527-4605-9a83-a1a124baa381\" class=\"colab-df-container\">\n",
              "    <div>\n",
              "<style scoped>\n",
              "    .dataframe tbody tr th:only-of-type {\n",
              "        vertical-align: middle;\n",
              "    }\n",
              "\n",
              "    .dataframe tbody tr th {\n",
              "        vertical-align: top;\n",
              "    }\n",
              "\n",
              "    .dataframe thead th {\n",
              "        text-align: right;\n",
              "    }\n",
              "</style>\n",
              "<table border=\"1\" class=\"dataframe\">\n",
              "  <thead>\n",
              "    <tr style=\"text-align: right;\">\n",
              "      <th></th>\n",
              "      <th>player1_name</th>\n",
              "      <th>player2_name</th>\n",
              "      <th>player1_mean_death_rate</th>\n",
              "      <th>player1_std_dev_death_rate</th>\n",
              "      <th>player2_mean_death_rate</th>\n",
              "      <th>player2_std_dev_death_rate</th>\n",
              "    </tr>\n",
              "  </thead>\n",
              "  <tbody>\n",
              "    <tr>\n",
              "      <th>0</th>\n",
              "      <td>AlwaysPlay</td>\n",
              "      <td>AlwaysPlay</td>\n",
              "      <td>35.3</td>\n",
              "      <td>7.304658</td>\n",
              "      <td>32.7</td>\n",
              "      <td>3.392075</td>\n",
              "    </tr>\n",
              "    <tr>\n",
              "      <th>1</th>\n",
              "      <td>AlwaysPlay</td>\n",
              "      <td>AlwaysWait</td>\n",
              "      <td>64.9</td>\n",
              "      <td>6.599663</td>\n",
              "      <td>-0.0</td>\n",
              "      <td>0.000000</td>\n",
              "    </tr>\n",
              "    <tr>\n",
              "      <th>2</th>\n",
              "      <td>AlwaysPlay</td>\n",
              "      <td>HailMary</td>\n",
              "      <td>59.4</td>\n",
              "      <td>4.422166</td>\n",
              "      <td>23.3</td>\n",
              "      <td>3.333333</td>\n",
              "    </tr>\n",
              "    <tr>\n",
              "      <th>3</th>\n",
              "      <td>AlwaysPlay</td>\n",
              "      <td>RandomAgent</td>\n",
              "      <td>53.4</td>\n",
              "      <td>11.826941</td>\n",
              "      <td>18.8</td>\n",
              "      <td>6.164414</td>\n",
              "    </tr>\n",
              "    <tr>\n",
              "      <th>4</th>\n",
              "      <td>AlwaysPlay</td>\n",
              "      <td>DQNPolicy</td>\n",
              "      <td>64.0</td>\n",
              "      <td>5.801234</td>\n",
              "      <td>0.2</td>\n",
              "      <td>0.666667</td>\n",
              "    </tr>\n",
              "  </tbody>\n",
              "</table>\n",
              "</div>\n",
              "    <div class=\"colab-df-buttons\">\n",
              "\n",
              "  <div class=\"colab-df-container\">\n",
              "    <button class=\"colab-df-convert\" onclick=\"convertToInteractive('df-4586549b-c527-4605-9a83-a1a124baa381')\"\n",
              "            title=\"Convert this dataframe to an interactive table.\"\n",
              "            style=\"display:none;\">\n",
              "\n",
              "  <svg xmlns=\"http://www.w3.org/2000/svg\" height=\"24px\" viewBox=\"0 -960 960 960\">\n",
              "    <path d=\"M120-120v-720h720v720H120Zm60-500h600v-160H180v160Zm220 220h160v-160H400v160Zm0 220h160v-160H400v160ZM180-400h160v-160H180v160Zm440 0h160v-160H620v160ZM180-180h160v-160H180v160Zm440 0h160v-160H620v160Z\"/>\n",
              "  </svg>\n",
              "    </button>\n",
              "\n",
              "  <style>\n",
              "    .colab-df-container {\n",
              "      display:flex;\n",
              "      gap: 12px;\n",
              "    }\n",
              "\n",
              "    .colab-df-convert {\n",
              "      background-color: #E8F0FE;\n",
              "      border: none;\n",
              "      border-radius: 50%;\n",
              "      cursor: pointer;\n",
              "      display: none;\n",
              "      fill: #1967D2;\n",
              "      height: 32px;\n",
              "      padding: 0 0 0 0;\n",
              "      width: 32px;\n",
              "    }\n",
              "\n",
              "    .colab-df-convert:hover {\n",
              "      background-color: #E2EBFA;\n",
              "      box-shadow: 0px 1px 2px rgba(60, 64, 67, 0.3), 0px 1px 3px 1px rgba(60, 64, 67, 0.15);\n",
              "      fill: #174EA6;\n",
              "    }\n",
              "\n",
              "    .colab-df-buttons div {\n",
              "      margin-bottom: 4px;\n",
              "    }\n",
              "\n",
              "    [theme=dark] .colab-df-convert {\n",
              "      background-color: #3B4455;\n",
              "      fill: #D2E3FC;\n",
              "    }\n",
              "\n",
              "    [theme=dark] .colab-df-convert:hover {\n",
              "      background-color: #434B5C;\n",
              "      box-shadow: 0px 1px 3px 1px rgba(0, 0, 0, 0.15);\n",
              "      filter: drop-shadow(0px 1px 2px rgba(0, 0, 0, 0.3));\n",
              "      fill: #FFFFFF;\n",
              "    }\n",
              "  </style>\n",
              "\n",
              "    <script>\n",
              "      const buttonEl =\n",
              "        document.querySelector('#df-4586549b-c527-4605-9a83-a1a124baa381 button.colab-df-convert');\n",
              "      buttonEl.style.display =\n",
              "        google.colab.kernel.accessAllowed ? 'block' : 'none';\n",
              "\n",
              "      async function convertToInteractive(key) {\n",
              "        const element = document.querySelector('#df-4586549b-c527-4605-9a83-a1a124baa381');\n",
              "        const dataTable =\n",
              "          await google.colab.kernel.invokeFunction('convertToInteractive',\n",
              "                                                    [key], {});\n",
              "        if (!dataTable) return;\n",
              "\n",
              "        const docLinkHtml = 'Like what you see? Visit the ' +\n",
              "          '<a target=\"_blank\" href=https://colab.research.google.com/notebooks/data_table.ipynb>data table notebook</a>'\n",
              "          + ' to learn more about interactive tables.';\n",
              "        element.innerHTML = '';\n",
              "        dataTable['output_type'] = 'display_data';\n",
              "        await google.colab.output.renderOutput(dataTable, element);\n",
              "        const docLink = document.createElement('div');\n",
              "        docLink.innerHTML = docLinkHtml;\n",
              "        element.appendChild(docLink);\n",
              "      }\n",
              "    </script>\n",
              "  </div>\n",
              "\n",
              "\n",
              "<div id=\"df-2e57be50-78ec-41ed-8833-30e8004da7d6\">\n",
              "  <button class=\"colab-df-quickchart\" onclick=\"quickchart('df-2e57be50-78ec-41ed-8833-30e8004da7d6')\"\n",
              "            title=\"Suggest charts.\"\n",
              "            style=\"display:none;\">\n",
              "\n",
              "<svg xmlns=\"http://www.w3.org/2000/svg\" height=\"24px\"viewBox=\"0 0 24 24\"\n",
              "     width=\"24px\">\n",
              "    <g>\n",
              "        <path d=\"M19 3H5c-1.1 0-2 .9-2 2v14c0 1.1.9 2 2 2h14c1.1 0 2-.9 2-2V5c0-1.1-.9-2-2-2zM9 17H7v-7h2v7zm4 0h-2V7h2v10zm4 0h-2v-4h2v4z\"/>\n",
              "    </g>\n",
              "</svg>\n",
              "  </button>\n",
              "\n",
              "<style>\n",
              "  .colab-df-quickchart {\n",
              "      --bg-color: #E8F0FE;\n",
              "      --fill-color: #1967D2;\n",
              "      --hover-bg-color: #E2EBFA;\n",
              "      --hover-fill-color: #174EA6;\n",
              "      --disabled-fill-color: #AAA;\n",
              "      --disabled-bg-color: #DDD;\n",
              "  }\n",
              "\n",
              "  [theme=dark] .colab-df-quickchart {\n",
              "      --bg-color: #3B4455;\n",
              "      --fill-color: #D2E3FC;\n",
              "      --hover-bg-color: #434B5C;\n",
              "      --hover-fill-color: #FFFFFF;\n",
              "      --disabled-bg-color: #3B4455;\n",
              "      --disabled-fill-color: #666;\n",
              "  }\n",
              "\n",
              "  .colab-df-quickchart {\n",
              "    background-color: var(--bg-color);\n",
              "    border: none;\n",
              "    border-radius: 50%;\n",
              "    cursor: pointer;\n",
              "    display: none;\n",
              "    fill: var(--fill-color);\n",
              "    height: 32px;\n",
              "    padding: 0;\n",
              "    width: 32px;\n",
              "  }\n",
              "\n",
              "  .colab-df-quickchart:hover {\n",
              "    background-color: var(--hover-bg-color);\n",
              "    box-shadow: 0 1px 2px rgba(60, 64, 67, 0.3), 0 1px 3px 1px rgba(60, 64, 67, 0.15);\n",
              "    fill: var(--button-hover-fill-color);\n",
              "  }\n",
              "\n",
              "  .colab-df-quickchart-complete:disabled,\n",
              "  .colab-df-quickchart-complete:disabled:hover {\n",
              "    background-color: var(--disabled-bg-color);\n",
              "    fill: var(--disabled-fill-color);\n",
              "    box-shadow: none;\n",
              "  }\n",
              "\n",
              "  .colab-df-spinner {\n",
              "    border: 2px solid var(--fill-color);\n",
              "    border-color: transparent;\n",
              "    border-bottom-color: var(--fill-color);\n",
              "    animation:\n",
              "      spin 1s steps(1) infinite;\n",
              "  }\n",
              "\n",
              "  @keyframes spin {\n",
              "    0% {\n",
              "      border-color: transparent;\n",
              "      border-bottom-color: var(--fill-color);\n",
              "      border-left-color: var(--fill-color);\n",
              "    }\n",
              "    20% {\n",
              "      border-color: transparent;\n",
              "      border-left-color: var(--fill-color);\n",
              "      border-top-color: var(--fill-color);\n",
              "    }\n",
              "    30% {\n",
              "      border-color: transparent;\n",
              "      border-left-color: var(--fill-color);\n",
              "      border-top-color: var(--fill-color);\n",
              "      border-right-color: var(--fill-color);\n",
              "    }\n",
              "    40% {\n",
              "      border-color: transparent;\n",
              "      border-right-color: var(--fill-color);\n",
              "      border-top-color: var(--fill-color);\n",
              "    }\n",
              "    60% {\n",
              "      border-color: transparent;\n",
              "      border-right-color: var(--fill-color);\n",
              "    }\n",
              "    80% {\n",
              "      border-color: transparent;\n",
              "      border-right-color: var(--fill-color);\n",
              "      border-bottom-color: var(--fill-color);\n",
              "    }\n",
              "    90% {\n",
              "      border-color: transparent;\n",
              "      border-bottom-color: var(--fill-color);\n",
              "    }\n",
              "  }\n",
              "</style>\n",
              "\n",
              "  <script>\n",
              "    async function quickchart(key) {\n",
              "      const quickchartButtonEl =\n",
              "        document.querySelector('#' + key + ' button');\n",
              "      quickchartButtonEl.disabled = true;  // To prevent multiple clicks.\n",
              "      quickchartButtonEl.classList.add('colab-df-spinner');\n",
              "      try {\n",
              "        const charts = await google.colab.kernel.invokeFunction(\n",
              "            'suggestCharts', [key], {});\n",
              "      } catch (error) {\n",
              "        console.error('Error during call to suggestCharts:', error);\n",
              "      }\n",
              "      quickchartButtonEl.classList.remove('colab-df-spinner');\n",
              "      quickchartButtonEl.classList.add('colab-df-quickchart-complete');\n",
              "    }\n",
              "    (() => {\n",
              "      let quickchartButtonEl =\n",
              "        document.querySelector('#df-2e57be50-78ec-41ed-8833-30e8004da7d6 button');\n",
              "      quickchartButtonEl.style.display =\n",
              "        google.colab.kernel.accessAllowed ? 'block' : 'none';\n",
              "    })();\n",
              "  </script>\n",
              "</div>\n",
              "    </div>\n",
              "  </div>\n"
            ]
          },
          "metadata": {},
          "execution_count": 26
        }
      ]
    },
    {
      "cell_type": "code",
      "source": [
        "for idx, group in df.groupby(\"player1_name\"):\n",
        "    group = group.loc[~(group.player1_name == group.player2_name)]\n",
        "    wins = (group.player1_mean_death_rate < group.player2_mean_death_rate).sum()\n",
        "    print(idx, wins)"
      ],
      "metadata": {
        "id": "p8lY6xQz0vD5",
        "outputId": "b5b16f62-a898-4355-a4e2-70250296c285",
        "colab": {
          "base_uri": "https://localhost:8080/"
        }
      },
      "execution_count": 27,
      "outputs": [
        {
          "output_type": "stream",
          "name": "stdout",
          "text": [
            "AlwaysPlay 0\n",
            "AlwaysWait 3\n",
            "DQNPolicy 3\n",
            "HailMary 2\n",
            "RandomAgent 1\n"
          ]
        },
        {
          "output_type": "stream",
          "name": "stderr",
          "text": [
            "/usr/local/lib/python3.10/dist-packages/ipykernel/ipkernel.py:283: DeprecationWarning: `should_run_async` will not call `transform_cell` automatically in the future. Please pass the result to `transformed_cell` argument and any exception that happen during thetransform in `preprocessing_exc_tuple` in IPython 7.17 and above.\n",
            "  and should_run_async(code)\n"
          ]
        }
      ]
    },
    {
      "cell_type": "code",
      "source": [
        "arr = [str(tuple(np.around(x, 2))) for x in df[[\"player1_mean_death_rate\", \"player2_mean_death_rate\"]].values]\n",
        "arr = np.reshape(arr, (5, 5))\n",
        "arr\n",
        "\n",
        "pd.DataFrame(arr, columns=df.player1_name.unique(), index=df.player1_name.unique())\n",
        ""
      ],
      "metadata": {
        "id": "1SkQWbnP0xyR",
        "outputId": "b20b4a3c-523f-4b7a-e696-444775feaf0b",
        "colab": {
          "base_uri": "https://localhost:8080/",
          "height": 262
        }
      },
      "execution_count": 28,
      "outputs": [
        {
          "output_type": "stream",
          "name": "stderr",
          "text": [
            "/usr/local/lib/python3.10/dist-packages/ipykernel/ipkernel.py:283: DeprecationWarning: `should_run_async` will not call `transform_cell` automatically in the future. Please pass the result to `transformed_cell` argument and any exception that happen during thetransform in `preprocessing_exc_tuple` in IPython 7.17 and above.\n",
            "  and should_run_async(code)\n"
          ]
        },
        {
          "output_type": "execute_result",
          "data": {
            "text/plain": [
              "               AlwaysPlay    AlwaysWait      HailMary   RandomAgent  \\\n",
              "AlwaysPlay   (35.3, 32.7)  (64.9, -0.0)  (59.4, 23.3)  (53.4, 18.8)   \n",
              "AlwaysWait   (-0.0, 65.9)  (48.5, 50.5)  (25.7, 39.8)  (23.5, 58.7)   \n",
              "HailMary      (9.8, 66.1)   (57.1, 5.1)  (44.6, 36.9)  (32.8, 37.7)   \n",
              "RandomAgent  (15.7, 52.1)  (58.2, 24.5)  (42.5, 30.3)  (35.7, 40.2)   \n",
              "DQNPolicy     (0.1, 62.9)  (51.2, 50.2)  (29.0, 35.6)  (22.9, 59.1)   \n",
              "\n",
              "                DQNPolicy  \n",
              "AlwaysPlay    (64.0, 0.2)  \n",
              "AlwaysWait   (52.1, 49.3)  \n",
              "HailMary      (58.2, 7.2)  \n",
              "RandomAgent  (57.5, 22.5)  \n",
              "DQNPolicy    (47.6, 47.5)  "
            ],
            "text/html": [
              "\n",
              "  <div id=\"df-d9ac50c7-05d2-4c08-b5e2-0fc4dbf98953\" class=\"colab-df-container\">\n",
              "    <div>\n",
              "<style scoped>\n",
              "    .dataframe tbody tr th:only-of-type {\n",
              "        vertical-align: middle;\n",
              "    }\n",
              "\n",
              "    .dataframe tbody tr th {\n",
              "        vertical-align: top;\n",
              "    }\n",
              "\n",
              "    .dataframe thead th {\n",
              "        text-align: right;\n",
              "    }\n",
              "</style>\n",
              "<table border=\"1\" class=\"dataframe\">\n",
              "  <thead>\n",
              "    <tr style=\"text-align: right;\">\n",
              "      <th></th>\n",
              "      <th>AlwaysPlay</th>\n",
              "      <th>AlwaysWait</th>\n",
              "      <th>HailMary</th>\n",
              "      <th>RandomAgent</th>\n",
              "      <th>DQNPolicy</th>\n",
              "    </tr>\n",
              "  </thead>\n",
              "  <tbody>\n",
              "    <tr>\n",
              "      <th>AlwaysPlay</th>\n",
              "      <td>(35.3, 32.7)</td>\n",
              "      <td>(64.9, -0.0)</td>\n",
              "      <td>(59.4, 23.3)</td>\n",
              "      <td>(53.4, 18.8)</td>\n",
              "      <td>(64.0, 0.2)</td>\n",
              "    </tr>\n",
              "    <tr>\n",
              "      <th>AlwaysWait</th>\n",
              "      <td>(-0.0, 65.9)</td>\n",
              "      <td>(48.5, 50.5)</td>\n",
              "      <td>(25.7, 39.8)</td>\n",
              "      <td>(23.5, 58.7)</td>\n",
              "      <td>(52.1, 49.3)</td>\n",
              "    </tr>\n",
              "    <tr>\n",
              "      <th>HailMary</th>\n",
              "      <td>(9.8, 66.1)</td>\n",
              "      <td>(57.1, 5.1)</td>\n",
              "      <td>(44.6, 36.9)</td>\n",
              "      <td>(32.8, 37.7)</td>\n",
              "      <td>(58.2, 7.2)</td>\n",
              "    </tr>\n",
              "    <tr>\n",
              "      <th>RandomAgent</th>\n",
              "      <td>(15.7, 52.1)</td>\n",
              "      <td>(58.2, 24.5)</td>\n",
              "      <td>(42.5, 30.3)</td>\n",
              "      <td>(35.7, 40.2)</td>\n",
              "      <td>(57.5, 22.5)</td>\n",
              "    </tr>\n",
              "    <tr>\n",
              "      <th>DQNPolicy</th>\n",
              "      <td>(0.1, 62.9)</td>\n",
              "      <td>(51.2, 50.2)</td>\n",
              "      <td>(29.0, 35.6)</td>\n",
              "      <td>(22.9, 59.1)</td>\n",
              "      <td>(47.6, 47.5)</td>\n",
              "    </tr>\n",
              "  </tbody>\n",
              "</table>\n",
              "</div>\n",
              "    <div class=\"colab-df-buttons\">\n",
              "\n",
              "  <div class=\"colab-df-container\">\n",
              "    <button class=\"colab-df-convert\" onclick=\"convertToInteractive('df-d9ac50c7-05d2-4c08-b5e2-0fc4dbf98953')\"\n",
              "            title=\"Convert this dataframe to an interactive table.\"\n",
              "            style=\"display:none;\">\n",
              "\n",
              "  <svg xmlns=\"http://www.w3.org/2000/svg\" height=\"24px\" viewBox=\"0 -960 960 960\">\n",
              "    <path d=\"M120-120v-720h720v720H120Zm60-500h600v-160H180v160Zm220 220h160v-160H400v160Zm0 220h160v-160H400v160ZM180-400h160v-160H180v160Zm440 0h160v-160H620v160ZM180-180h160v-160H180v160Zm440 0h160v-160H620v160Z\"/>\n",
              "  </svg>\n",
              "    </button>\n",
              "\n",
              "  <style>\n",
              "    .colab-df-container {\n",
              "      display:flex;\n",
              "      gap: 12px;\n",
              "    }\n",
              "\n",
              "    .colab-df-convert {\n",
              "      background-color: #E8F0FE;\n",
              "      border: none;\n",
              "      border-radius: 50%;\n",
              "      cursor: pointer;\n",
              "      display: none;\n",
              "      fill: #1967D2;\n",
              "      height: 32px;\n",
              "      padding: 0 0 0 0;\n",
              "      width: 32px;\n",
              "    }\n",
              "\n",
              "    .colab-df-convert:hover {\n",
              "      background-color: #E2EBFA;\n",
              "      box-shadow: 0px 1px 2px rgba(60, 64, 67, 0.3), 0px 1px 3px 1px rgba(60, 64, 67, 0.15);\n",
              "      fill: #174EA6;\n",
              "    }\n",
              "\n",
              "    .colab-df-buttons div {\n",
              "      margin-bottom: 4px;\n",
              "    }\n",
              "\n",
              "    [theme=dark] .colab-df-convert {\n",
              "      background-color: #3B4455;\n",
              "      fill: #D2E3FC;\n",
              "    }\n",
              "\n",
              "    [theme=dark] .colab-df-convert:hover {\n",
              "      background-color: #434B5C;\n",
              "      box-shadow: 0px 1px 3px 1px rgba(0, 0, 0, 0.15);\n",
              "      filter: drop-shadow(0px 1px 2px rgba(0, 0, 0, 0.3));\n",
              "      fill: #FFFFFF;\n",
              "    }\n",
              "  </style>\n",
              "\n",
              "    <script>\n",
              "      const buttonEl =\n",
              "        document.querySelector('#df-d9ac50c7-05d2-4c08-b5e2-0fc4dbf98953 button.colab-df-convert');\n",
              "      buttonEl.style.display =\n",
              "        google.colab.kernel.accessAllowed ? 'block' : 'none';\n",
              "\n",
              "      async function convertToInteractive(key) {\n",
              "        const element = document.querySelector('#df-d9ac50c7-05d2-4c08-b5e2-0fc4dbf98953');\n",
              "        const dataTable =\n",
              "          await google.colab.kernel.invokeFunction('convertToInteractive',\n",
              "                                                    [key], {});\n",
              "        if (!dataTable) return;\n",
              "\n",
              "        const docLinkHtml = 'Like what you see? Visit the ' +\n",
              "          '<a target=\"_blank\" href=https://colab.research.google.com/notebooks/data_table.ipynb>data table notebook</a>'\n",
              "          + ' to learn more about interactive tables.';\n",
              "        element.innerHTML = '';\n",
              "        dataTable['output_type'] = 'display_data';\n",
              "        await google.colab.output.renderOutput(dataTable, element);\n",
              "        const docLink = document.createElement('div');\n",
              "        docLink.innerHTML = docLinkHtml;\n",
              "        element.appendChild(docLink);\n",
              "      }\n",
              "    </script>\n",
              "  </div>\n",
              "\n",
              "\n",
              "<div id=\"df-7c970b78-36cb-461b-8296-cc7ef2768f54\">\n",
              "  <button class=\"colab-df-quickchart\" onclick=\"quickchart('df-7c970b78-36cb-461b-8296-cc7ef2768f54')\"\n",
              "            title=\"Suggest charts.\"\n",
              "            style=\"display:none;\">\n",
              "\n",
              "<svg xmlns=\"http://www.w3.org/2000/svg\" height=\"24px\"viewBox=\"0 0 24 24\"\n",
              "     width=\"24px\">\n",
              "    <g>\n",
              "        <path d=\"M19 3H5c-1.1 0-2 .9-2 2v14c0 1.1.9 2 2 2h14c1.1 0 2-.9 2-2V5c0-1.1-.9-2-2-2zM9 17H7v-7h2v7zm4 0h-2V7h2v10zm4 0h-2v-4h2v4z\"/>\n",
              "    </g>\n",
              "</svg>\n",
              "  </button>\n",
              "\n",
              "<style>\n",
              "  .colab-df-quickchart {\n",
              "      --bg-color: #E8F0FE;\n",
              "      --fill-color: #1967D2;\n",
              "      --hover-bg-color: #E2EBFA;\n",
              "      --hover-fill-color: #174EA6;\n",
              "      --disabled-fill-color: #AAA;\n",
              "      --disabled-bg-color: #DDD;\n",
              "  }\n",
              "\n",
              "  [theme=dark] .colab-df-quickchart {\n",
              "      --bg-color: #3B4455;\n",
              "      --fill-color: #D2E3FC;\n",
              "      --hover-bg-color: #434B5C;\n",
              "      --hover-fill-color: #FFFFFF;\n",
              "      --disabled-bg-color: #3B4455;\n",
              "      --disabled-fill-color: #666;\n",
              "  }\n",
              "\n",
              "  .colab-df-quickchart {\n",
              "    background-color: var(--bg-color);\n",
              "    border: none;\n",
              "    border-radius: 50%;\n",
              "    cursor: pointer;\n",
              "    display: none;\n",
              "    fill: var(--fill-color);\n",
              "    height: 32px;\n",
              "    padding: 0;\n",
              "    width: 32px;\n",
              "  }\n",
              "\n",
              "  .colab-df-quickchart:hover {\n",
              "    background-color: var(--hover-bg-color);\n",
              "    box-shadow: 0 1px 2px rgba(60, 64, 67, 0.3), 0 1px 3px 1px rgba(60, 64, 67, 0.15);\n",
              "    fill: var(--button-hover-fill-color);\n",
              "  }\n",
              "\n",
              "  .colab-df-quickchart-complete:disabled,\n",
              "  .colab-df-quickchart-complete:disabled:hover {\n",
              "    background-color: var(--disabled-bg-color);\n",
              "    fill: var(--disabled-fill-color);\n",
              "    box-shadow: none;\n",
              "  }\n",
              "\n",
              "  .colab-df-spinner {\n",
              "    border: 2px solid var(--fill-color);\n",
              "    border-color: transparent;\n",
              "    border-bottom-color: var(--fill-color);\n",
              "    animation:\n",
              "      spin 1s steps(1) infinite;\n",
              "  }\n",
              "\n",
              "  @keyframes spin {\n",
              "    0% {\n",
              "      border-color: transparent;\n",
              "      border-bottom-color: var(--fill-color);\n",
              "      border-left-color: var(--fill-color);\n",
              "    }\n",
              "    20% {\n",
              "      border-color: transparent;\n",
              "      border-left-color: var(--fill-color);\n",
              "      border-top-color: var(--fill-color);\n",
              "    }\n",
              "    30% {\n",
              "      border-color: transparent;\n",
              "      border-left-color: var(--fill-color);\n",
              "      border-top-color: var(--fill-color);\n",
              "      border-right-color: var(--fill-color);\n",
              "    }\n",
              "    40% {\n",
              "      border-color: transparent;\n",
              "      border-right-color: var(--fill-color);\n",
              "      border-top-color: var(--fill-color);\n",
              "    }\n",
              "    60% {\n",
              "      border-color: transparent;\n",
              "      border-right-color: var(--fill-color);\n",
              "    }\n",
              "    80% {\n",
              "      border-color: transparent;\n",
              "      border-right-color: var(--fill-color);\n",
              "      border-bottom-color: var(--fill-color);\n",
              "    }\n",
              "    90% {\n",
              "      border-color: transparent;\n",
              "      border-bottom-color: var(--fill-color);\n",
              "    }\n",
              "  }\n",
              "</style>\n",
              "\n",
              "  <script>\n",
              "    async function quickchart(key) {\n",
              "      const quickchartButtonEl =\n",
              "        document.querySelector('#' + key + ' button');\n",
              "      quickchartButtonEl.disabled = true;  // To prevent multiple clicks.\n",
              "      quickchartButtonEl.classList.add('colab-df-spinner');\n",
              "      try {\n",
              "        const charts = await google.colab.kernel.invokeFunction(\n",
              "            'suggestCharts', [key], {});\n",
              "      } catch (error) {\n",
              "        console.error('Error during call to suggestCharts:', error);\n",
              "      }\n",
              "      quickchartButtonEl.classList.remove('colab-df-spinner');\n",
              "      quickchartButtonEl.classList.add('colab-df-quickchart-complete');\n",
              "    }\n",
              "    (() => {\n",
              "      let quickchartButtonEl =\n",
              "        document.querySelector('#df-7c970b78-36cb-461b-8296-cc7ef2768f54 button');\n",
              "      quickchartButtonEl.style.display =\n",
              "        google.colab.kernel.accessAllowed ? 'block' : 'none';\n",
              "    })();\n",
              "  </script>\n",
              "</div>\n",
              "    </div>\n",
              "  </div>\n"
            ]
          },
          "metadata": {},
          "execution_count": 28
        }
      ]
    },
    {
      "cell_type": "code",
      "source": [],
      "metadata": {
        "id": "wHoXy33c72Rc"
      },
      "execution_count": null,
      "outputs": []
    }
  ]
}