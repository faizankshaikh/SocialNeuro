{
  "nbformat": 4,
  "nbformat_minor": 0,
  "metadata": {
    "colab": {
      "provenance": [],
      "authorship_tag": "ABX9TyNuDAX77QpFD0HxOC2SfPIz",
      "include_colab_link": true
    },
    "kernelspec": {
      "name": "python3",
      "display_name": "Python 3"
    },
    "language_info": {
      "name": "python"
    }
  },
  "cells": [
    {
      "cell_type": "markdown",
      "metadata": {
        "id": "view-in-github",
        "colab_type": "text"
      },
      "source": [
        "<a href=\"https://colab.research.google.com/github/faizankshaikh/SocialNeuro/blob/main/SocialNeuro/envs/cfg/config_creator.ipynb\" target=\"_parent\"><img src=\"https://colab.research.google.com/assets/colab-badge.svg\" alt=\"Open In Colab\"/></a>"
      ]
    },
    {
      "cell_type": "code",
      "source": [
        "import numpy as np\n",
        "import pandas as pd"
      ],
      "metadata": {
        "id": "zxew87_8C097"
      },
      "execution_count": 1,
      "outputs": []
    },
    {
      "cell_type": "code",
      "source": [
        "arr = []\n",
        "\n",
        "weather_types = [0.2, 0.3, 0.4]\n",
        "weather_types_coop = [0.36, 0.51, 0.64]\n",
        "\n",
        "def prob_payoff(self_action, other_action, self_life_points, other_life_points, weather_type_idx):\n",
        "    if self_life_points != 0:\n",
        "        if other_life_points != 0:\n",
        "            if self_action == 1 and other_action == 1:\n",
        "                return weather_types_coop[weather_type_idx]\n",
        "            elif self_action == 1 and other_action == 0:\n",
        "                return weather_types[weather_type_idx]\n",
        "            elif self_action == 0 and other_action == 1:\n",
        "                return 1\n",
        "            else:\n",
        "                return 0\n",
        "        else:\n",
        "            if self_action == 0:\n",
        "                return 0\n",
        "            else:\n",
        "                return weather_types[weather_type_idx]\n",
        "    else:\n",
        "        return 0\n",
        "\n",
        "\n",
        "for days in range(0, 3):\n",
        "    for p1_lp in range(0, 4):\n",
        "        for p2_lp in range(0, 4):\n",
        "            for p1_a in range(0, 2):\n",
        "                for p2_a in range(0, 2):\n",
        "                    for w_idx, w in enumerate(weather_types):\n",
        "                        p1_p = prob_payoff(p1_a, p2_a, p1_lp, p2_lp, w_idx)\n",
        "                        p2_p = prob_payoff(p2_a, p1_a, p2_lp, p1_lp, w_idx)\n",
        "\n",
        "                        if p1_lp > 0 and p2_lp > 0 and days > 0:\n",
        "                            is_init_val = 1\n",
        "                        else:\n",
        "                            is_init_val = 0\n",
        "\n",
        "                        arr.append([is_init_val, days, p1_lp, p2_lp, p1_a, p2_a, w_idx, p1_p, p2_p])\n",
        "\n",
        "data = pd.DataFrame(arr, columns=[\"is_init_val\", \"days_left\", \"player1_life_points\", \"player2_life_points\", \"player1_action\", \"player2_action\", \"weather_type\", \"player1_prob_payoff\", \"player2_prob_payoff\"])\n",
        "data.to_csv(\"comp_v0_game_initialization.csv\", index=False)"
      ],
      "metadata": {
        "id": "ys4R4FEyCIEK"
      },
      "execution_count": 2,
      "outputs": []
    },
    {
      "cell_type": "code",
      "source": [
        "gain = 1\n",
        "cost = -1\n",
        "gain_dead = 0\n",
        "\n",
        "def get_payoffs(player1_alive, player2_alive, player1_action, player2_action, player1_possible_outcome, player2_possible_outcome):\n",
        "\n",
        "    if player1_alive and player2_alive:\n",
        "        if player1_action == player2_action == 1:\n",
        "            if player1_possible_outcome and player2_possible_outcome:\n",
        "                player1_payoff, player2_payoff = gain, gain\n",
        "            else:\n",
        "                player1_payoff, player2_payoff = cost, cost\n",
        "\n",
        "        elif player1_action == 1 and player2_action == 0:\n",
        "            # player1 forage success, player2 attack success\n",
        "            if player1_possible_outcome and player2_possible_outcome:\n",
        "                player1_payoff, player2_payoff = gain + cost, gain\n",
        "            # player1 forage success, player2 attack failure\n",
        "            elif player1_possible_outcome and not player2_possible_outcome:\n",
        "                player1_payoff, player2_payoff = gain, cost\n",
        "            # player1 forage failure, player2 attack success\n",
        "            elif not player1_possible_outcome and player2_possible_outcome:\n",
        "                player1_payoff, player2_payoff = cost + cost, gain\n",
        "            # player1 forage failure, player2 attack failure\n",
        "            else:\n",
        "                player1_payoff, player2_payoff = cost, cost\n",
        "        elif player1_action == 0 and player2_action == 1:\n",
        "            # player1 attack success, player2 forage success\n",
        "            if player1_possible_outcome and player2_possible_outcome:\n",
        "                player1_payoff, player2_payoff = gain, gain + cost\n",
        "            # player1 attack success, player2 forage failure\n",
        "            elif player1_possible_outcome and not player2_possible_outcome:\n",
        "                player1_payoff, player2_payoff = gain, cost + cost\n",
        "            # player1 attack failure, player2 forage success\n",
        "            elif not player1_possible_outcome and player2_possible_outcome:\n",
        "                player1_payoff, player2_payoff = cost, gain\n",
        "            # player1 attack failure, player2 forage failure\n",
        "            else:\n",
        "                player1_payoff, player2_payoff = cost, cost\n",
        "        else:\n",
        "            # both players attack\n",
        "            player1_payoff, player2_payoff = cost, cost\n",
        "    elif player1_alive and not player2_alive:\n",
        "        if player1_action == 1:\n",
        "            if player1_possible_outcome:\n",
        "                player1_payoff, player2_payoff = gain, gain_dead\n",
        "            else:\n",
        "                player1_payoff, player2_payoff = cost, gain_dead\n",
        "        else:\n",
        "            player1_payoff, player2_payoff = cost, gain_dead\n",
        "    elif not player1_alive and player2_alive:\n",
        "        if player2_action == 1:\n",
        "            if player2_possible_outcome:\n",
        "                player1_payoff, player2_payoff = gain_dead, gain\n",
        "            else:\n",
        "                player1_payoff, player2_payoff = gain_dead, cost\n",
        "        else:\n",
        "            player1_payoff, player2_payoff = gain_dead, cost\n",
        "    else:\n",
        "        player1_payoff, player2_payoff = gain_dead, gain_dead\n",
        "\n",
        "    return player1_payoff, player2_payoff\n",
        "\n",
        "\n",
        "arr = []\n",
        "\n",
        "for p1_lp in range(0, 2):\n",
        "    for p2_lp in range(0, 2):\n",
        "        for p1_a in range(0, 2):\n",
        "            for p2_a in range(0, 2):\n",
        "                for p1_o in range(0, 2):\n",
        "                    for p2_o in range(0, 2):\n",
        "                        p1_p, p2_p = get_payoffs(p1_lp, p2_lp, p1_a, p2_a, p1_o, p2_o)\n",
        "\n",
        "                        if p1_lp == 0: p1_a = 2\n",
        "                        if p2_lp == 0: p2_a = 2\n",
        "\n",
        "                        arr.append([p1_lp, p2_lp, p1_a, p2_a, p1_o, p2_o, p1_p, p2_p])\n",
        "\n",
        "\n",
        "data = pd.DataFrame(arr, columns=[\"player1_alive\", \"player2_alive\", \"player1_action\", \"player2_action\",\n",
        "                                  \"player1_possible_outcome\", \"player2_possible_outcome\", \"player1_payoff\", \"player2_payoff\"])\n",
        "data.to_csv(\"comp_v0_game_mechanics.csv\", index=False)"
      ],
      "metadata": {
        "id": "kR6Ydnobo25r"
      },
      "execution_count": 4,
      "outputs": []
    },
    {
      "cell_type": "code",
      "source": [],
      "metadata": {
        "id": "LiZvtue6v2oJ"
      },
      "execution_count": null,
      "outputs": []
    }
  ]
}